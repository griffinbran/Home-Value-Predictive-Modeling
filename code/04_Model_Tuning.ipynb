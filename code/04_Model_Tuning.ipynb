{
 "cells": [
  {
   "cell_type": "markdown",
   "metadata": {},
   "source": [
    "## Inferential Visualizations\n",
    "- Look at feature loadings.\n",
    "- Look at how accurate your predictions are.\n",
    "- Is there a pattern to your errors? Consider reworking your model to address this."
   ]
  },
  {
   "cell_type": "code",
   "execution_count": 53,
   "metadata": {},
   "outputs": [],
   "source": [
    "# Imports\n",
    "import pandas as pd\n",
    "import numpy as np\n",
    "import matplotlib.pyplot as plt\n",
    "import seaborn as sns\n",
    "from sklearn.linear_model import LinearRegression #class(LinearRegression) inside module(linear_model) inside library(sklearn)\n",
    "from sklearn import metrics"
   ]
  },
  {
   "cell_type": "code",
   "execution_count": 54,
   "metadata": {},
   "outputs": [],
   "source": [
    "# Set up the data\n",
    "data = \"../data/\"\n",
    "train = \"datasets/clean_train.csv\"\n",
    "test = \"datasets/test.csv\""
   ]
  },
  {
   "cell_type": "code",
   "execution_count": 55,
   "metadata": {},
   "outputs": [],
   "source": [
    "#Read in the data\n",
    "train_df = pd.read_csv(data+train)\n",
    "test_df = pd.read_csv(data+test)"
   ]
  },
  {
   "cell_type": "code",
   "execution_count": 56,
   "metadata": {},
   "outputs": [],
   "source": [
    "#Everything here needs to be imported from Notebook 04\n",
    "\n",
    "# List ID of X-features included in Linear REgression Model\n",
    "features =['Year Remod/Add', 'Year Built', '1st Flr SF','Total Bsmt SF','Garage Area', 'Gr Liv Area', 'Overall Qual']\n",
    "# Setting up our features and our target from the train_df to feed into a linear regression.\n",
    "X = train_df[features]\n",
    "y_actual = train_df['SalePrice']\n",
    "# Instantiate linear regression model\n",
    "lm = LinearRegression()\n",
    "# Fit the linear regression to chosen features.\n",
    "lm.fit(X, y_actual);"
   ]
  },
  {
   "cell_type": "code",
   "execution_count": 57,
   "metadata": {},
   "outputs": [],
   "source": [
    "# Create predictions using the `lm` object.\n",
    "y_pred = lm.predict(X)"
   ]
  },
  {
   "cell_type": "code",
   "execution_count": 58,
   "metadata": {},
   "outputs": [
    {
     "name": "stdout",
     "output_type": "stream",
     "text": [
      "X:         (2049, 7)\n",
      "y_actual:  (2049,)\n",
      "y_pred:  (2049,)\n"
     ]
    }
   ],
   "source": [
    "# Verify dimensions in X and y represent an equal number of observations in each, n = No. of rows\n",
    "print('X:        ', X.shape) # X.shape equals (n,p)\n",
    "print('y_actual: ', y_actual.shape) # y.shape equals (n, null)\n",
    "print('y_pred: ', y_pred.shape)"
   ]
  },
  {
   "cell_type": "code",
   "execution_count": 59,
   "metadata": {},
   "outputs": [
    {
     "data": {
      "text/plain": [
       "(2049, 1)"
      ]
     },
     "execution_count": 59,
     "metadata": {},
     "output_type": "execute_result"
    }
   ],
   "source": [
    "X[['Overall Qual']].shape"
   ]
  },
  {
   "cell_type": "code",
   "execution_count": 60,
   "metadata": {},
   "outputs": [
    {
     "data": {
      "text/plain": [
       "(2049, 7)"
      ]
     },
     "execution_count": 60,
     "metadata": {},
     "output_type": "execute_result"
    }
   ],
   "source": [
    "X.shape"
   ]
  },
  {
   "cell_type": "code",
   "execution_count": 61,
   "metadata": {},
   "outputs": [
    {
     "data": {
      "text/plain": [
       "(2049,)"
      ]
     },
     "execution_count": 61,
     "metadata": {},
     "output_type": "execute_result"
    }
   ],
   "source": [
    "X['Year Remod/Add'].shape"
   ]
  },
  {
   "cell_type": "code",
   "execution_count": 67,
   "metadata": {},
   "outputs": [
    {
     "data": {
      "text/plain": [
       "array([172188.93757604, 233833.85374807, 128802.74605817, ...,\n",
       "       166780.6422959 , 107092.04569261, 218791.24086423])"
      ]
     },
     "execution_count": 67,
     "metadata": {},
     "output_type": "execute_result"
    }
   ],
   "source": [
    "y_pred"
   ]
  },
  {
   "cell_type": "code",
   "execution_count": null,
   "metadata": {},
   "outputs": [],
   "source": []
  },
  {
   "cell_type": "code",
   "execution_count": 70,
   "metadata": {},
   "outputs": [
    {
     "data": {
      "text/plain": [
       "[<matplotlib.lines.Line2D at 0x2fb2916ce50>]"
      ]
     },
     "execution_count": 70,
     "metadata": {},
     "output_type": "execute_result"
    },
    {
     "data": {
      "image/png": "[encoded data removed]",
      "text/plain": [
       "<Figure size 432x288 with 1 Axes>"
      ]
     },
     "metadata": {
      "needs_background": "light"
     },
     "output_type": "display_data"
    }
   ],
   "source": [
    "# Plot the predictions to gain a sense of the accuracy of the model\n",
    "plt.scatter(X['Gr Liv Area'], y_actual, s = 1) # size of dots\n",
    "plt.plot(X['Gr Liv Area'], y_pred, color = 'orange')\n",
    "#plt.xlim(0, 50)\n",
    "#plt.ylim(0, 10);"
   ]
  },
  {
   "cell_type": "code",
   "execution_count": 63,
   "metadata": {},
   "outputs": [
    {
     "name": "stdout",
     "output_type": "stream",
     "text": [
      "MSE: 1,317,520,890.96\n",
      "RMSE: 36,297.67\n"
     ]
    }
   ],
   "source": [
    "# Score it: Evaluate the model locally with training values of Sale Price\n",
    "#metrics.mean_squared_error(y_actual,y_pred)**(1/2)\n",
    "# Mean Squared Error (MSE)\n",
    "MSE = metrics.mean_squared_error(y_actual,y_pred)\n",
    "print(f'MSE: {MSE:,.2f}')\n",
    "# Root Mean Squared Error (RMSE)\n",
    "RMSE = metrics.mean_squared_error(y_actual,y_pred,squared=False)\n",
    "print(f'RMSE: {RMSE:,.2f}')"
   ]
  },
  {
   "cell_type": "code",
   "execution_count": null,
   "metadata": {},
   "outputs": [],
   "source": []
  }
 ],
 "metadata": {
  "kernelspec": {
   "display_name": "Python 3",
   "language": "python",
   "name": "python3"
  },
  "language_info": {
   "codemirror_mode": {
    "name": "ipython",
    "version": 3
   },
   "file_extension": ".py",
   "mimetype": "text/x-python",
   "name": "python",
   "nbconvert_exporter": "python",
   "pygments_lexer": "ipython3",
   "version": "3.8.3"
  }
 },
 "nbformat": 4,
 "nbformat_minor": 4
}

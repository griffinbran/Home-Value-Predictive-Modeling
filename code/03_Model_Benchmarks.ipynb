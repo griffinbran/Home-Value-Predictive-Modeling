{
 "cells": [
  {
   "cell_type": "markdown",
   "metadata": {},
   "source": [
    "## Modeling\n",
    "- **Establish your baseline score.**\n",
    "- Fit linear regression. Look at your coefficients. Are any of them wildly overblown?\n",
    "    **For every 1 unit increase in $x_i$, we expect SalePrice to increase by $\\beta_i$.**\n",
    "- Fit lasso/ridge/elastic net with default parameters.\n",
    "- Go back and remove features that might be causing issues in your models.\n",
    "- Tune hyperparameters.\n",
    "- **Identify a production model.** (This does not have to be your best performing Kaggle model, but rather the model that best answers your problem statement.)\n",
    "- Refine and interpret your production model."
   ]
  },
  {
   "cell_type": "code",
   "execution_count": 177,
   "metadata": {},
   "outputs": [],
   "source": [
    "# Imports\n",
    "import pandas as pd\n",
    "import numpy as np\n",
    "import matplotlib.pyplot as plt\n",
    "import seaborn as sns\n",
    "from sklearn.linear_model import LinearRegression, LassoCV, RidgeCV\n",
    "from sklearn.model_selection import train_test_split, cross_val_score\n",
    "from sklearn import metrics"
   ]
  },
  {
   "cell_type": "code",
   "execution_count": 178,
   "metadata": {},
   "outputs": [],
   "source": [
    "# Access scaled & Test/Train-Split variables from Notebook: 02_Preprocessing_and_Feature_Engineering\n",
    "\n",
    "%store -r Z_train\n",
    "%store -r Z_test\n",
    "%store -r y_train\n",
    "%store -r y_test\n",
    "\n",
    "%store -r Z_train2\n",
    "%store -r Z_test2\n",
    "%store -r y_train2\n",
    "%store -r y_test2\n",
    "\n",
    "%store -r features\n",
    "%store -r features2"
   ]
  },
  {
   "cell_type": "markdown",
   "metadata": {},
   "source": [
    "### Model Preparation"
   ]
  },
  {
   "cell_type": "markdown",
   "metadata": {},
   "source": [
    "##### Instantiate the models"
   ]
  },
  {
   "cell_type": "code",
   "execution_count": 179,
   "metadata": {},
   "outputs": [],
   "source": [
    "# Instantiate linear regression model\n",
    "lm = LinearRegression()\n",
    "lm2 = LinearRegression()"
   ]
  },
  {
   "cell_type": "code",
   "execution_count": 180,
   "metadata": {},
   "outputs": [],
   "source": [
    "# Instantiate LassoCV, fit with default parameters\n",
    "lasso = LassoCV(n_alphas=200)\n",
    "lasso2 = LassoCV(n_alphas=200)"
   ]
  },
  {
   "cell_type": "code",
   "execution_count": 181,
   "metadata": {},
   "outputs": [],
   "source": [
    "# Instantiate RidgeCV, fit with default parameters\n",
    "ridge = RidgeCV(alphas=np.linspace(.1, 10, 100))\n",
    "ridge2 = RidgeCV(alphas=np.linspace(.1, 10, 100))"
   ]
  },
  {
   "cell_type": "markdown",
   "metadata": {},
   "source": [
    "##### Establish Baseline Score: Cross Validation"
   ]
  },
  {
   "cell_type": "code",
   "execution_count": 182,
   "metadata": {},
   "outputs": [],
   "source": [
    "# Cross-Val: Baseline Score\n",
    "lm_scores = cross_val_score(lm, Z_train, y_train, cv=5)\n",
    "lm2_scores = cross_val_score(lm2, Z_train2, y_train2, cv=5)"
   ]
  },
  {
   "cell_type": "code",
   "execution_count": 183,
   "metadata": {},
   "outputs": [
    {
     "name": "stdout",
     "output_type": "stream",
     "text": [
      "0.7636902331607144 0.7937022771161226\n"
     ]
    }
   ],
   "source": [
    "print(lm_scores.mean(),lm2_scores.mean())"
   ]
  },
  {
   "cell_type": "code",
   "execution_count": 184,
   "metadata": {},
   "outputs": [],
   "source": [
    "# Use cross_val_score to evaluate LassoCV\n",
    "lasso_scores = cross_val_score(lasso, Z_train, y_train, cv=5)\n",
    "lasso2_scores = cross_val_score(lasso2, Z_train2, y_train2, cv=5)"
   ]
  },
  {
   "cell_type": "code",
   "execution_count": 185,
   "metadata": {},
   "outputs": [
    {
     "name": "stdout",
     "output_type": "stream",
     "text": [
      "0.7636457522513328 0.7937011171013266\n"
     ]
    }
   ],
   "source": [
    "print(lasso_scores.mean(),lasso2_scores.mean())"
   ]
  },
  {
   "cell_type": "code",
   "execution_count": 186,
   "metadata": {},
   "outputs": [],
   "source": [
    "# Use cross_val_score to evaluate RidgeCV\n",
    "ridge_scores = cross_val_score(ridge, Z_train, y_train, cv=5)\n",
    "ridge2_scores = cross_val_score(ridge2, Z_train2, y_train2, cv=5)"
   ]
  },
  {
   "cell_type": "code",
   "execution_count": 187,
   "metadata": {},
   "outputs": [
    {
     "name": "stdout",
     "output_type": "stream",
     "text": [
      "0.7639045038601326 0.7935665134711725\n"
     ]
    }
   ],
   "source": [
    "print(ridge_scores.mean(),ridge2_scores.mean())"
   ]
  },
  {
   "cell_type": "markdown",
   "metadata": {},
   "source": [
    "##### Fit the best performing model"
   ]
  },
  {
   "cell_type": "code",
   "execution_count": 188,
   "metadata": {},
   "outputs": [
    {
     "name": "stdout",
     "output_type": "stream",
     "text": [
      "LinearReg 1: Train=0.7777852697275695, Test=0.8222516669009068, \n",
      "Cross-Val Score: Train=0.7636902331607144\n",
      "LinearReg 2: Train=0.8065154988959511, Test=0.8369786951219199, \n",
      "Cross-Val Score: Train=0.7937022771161226\n"
     ]
    }
   ],
   "source": [
    "# Fit the linear regression to chosen scaled-features\n",
    "lm.fit(Z_train, y_train)\n",
    "lm2.fit(Z_train2, y_train2)\n",
    "\n",
    "# 1. Train Score\n",
    "lm_train_score = lm.score(Z_train,y_train)\n",
    "lm2_train_score = lm2.score(Z_train2,y_train2)\n",
    "\n",
    "# 2. Test Score\n",
    "lm_test_score = lm.score(Z_test, y_test)\n",
    "lm2_test_score = lm2.score(Z_test2, y_test2)\n",
    "\n",
    "print(f'LinearReg 1: Train={lm_train_score}, Test={lm_test_score}, \\nCross-Val Score: Train={lm_scores.mean()}')\n",
    "print(f'LinearReg 2: Train={lm2_train_score}, Test={lm2_test_score}, \\nCross-Val Score: Train={lm2_scores.mean()}')"
   ]
  },
  {
   "cell_type": "code",
   "execution_count": 189,
   "metadata": {},
   "outputs": [
    {
     "name": "stdout",
     "output_type": "stream",
     "text": [
      "LassoCV 1:   Train=0.7777706441649629, Test=0.8218238760027691, \n",
      "Cross-Val Score: Train=0.7636457522513328\n",
      "LassoCV 2:   Train=0.8065043203054625, Test=0.8371121597278772, \n",
      "Cross-Val Score: Train=0.7937011171013266\n"
     ]
    }
   ],
   "source": [
    "# Fit the lasso regression to chosen scaled-features\n",
    "lasso.fit(Z_train, y_train)\n",
    "lasso2.fit(Z_train2, y_train2)\n",
    "\n",
    "# 1. Train Score\n",
    "lasso_train_score = lasso.score(Z_train,y_train)\n",
    "lasso2_train_score = lasso2.score(Z_train2,y_train2)\n",
    "\n",
    "# 2. Test Score\n",
    "lasso_test_score = lasso.score(Z_test, y_test)\n",
    "lasso2_test_score = lasso2.score(Z_test2, y_test2)\n",
    "\n",
    "print(f'LassoCV 1:   Train={lasso_train_score}, Test={lasso_test_score}, \\nCross-Val Score: Train={lasso_scores.mean()}')\n",
    "print(f'LassoCV 2:   Train={lasso2_train_score}, Test={lasso2_test_score}, \\nCross-Val Score: Train={lasso2_scores.mean()}')"
   ]
  },
  {
   "cell_type": "code",
   "execution_count": 190,
   "metadata": {},
   "outputs": [
    {
     "name": "stdout",
     "output_type": "stream",
     "text": [
      "RidgeCV r2 Score 1:   Train=0.7777766125446623, Test=0.8222867156281176, \n",
      "Cross-Val Score: Train=0.7639045038601326\n",
      "RidgeCV r2 Score 2:   Train=0.8065039308923697, Test=0.8372281362302811, \n",
      "Cross-Val Score: Train=0.7935665134711725\n"
     ]
    }
   ],
   "source": [
    "# Fit the lasso regression to chosen scaled-features\n",
    "ridge.fit(Z_train, y_train)\n",
    "ridge2.fit(Z_train2, y_train2)\n",
    "\n",
    "# 1. Train Score\n",
    "ridge_train_score = ridge.score(Z_train,y_train)\n",
    "ridge2_train_score = ridge2.score(Z_train2,y_train2)\n",
    "\n",
    "# 2. Test Score\n",
    "ridge_test_score = ridge.score(Z_test, y_test)\n",
    "ridge2_test_score = ridge2.score(Z_test2, y_test2)\n",
    "\n",
    "print(f'RidgeCV r2 Score 1:   Train={ridge_train_score}, Test={ridge_test_score}, \\nCross-Val Score: Train={ridge_scores.mean()}')\n",
    "print(f'RidgeCV r2 Score 2:   Train={ridge2_train_score}, Test={ridge2_test_score}, \\nCross-Val Score: Train={ridge2_scores.mean()}')"
   ]
  },
  {
   "cell_type": "markdown",
   "metadata": {},
   "source": [
    "3. Cross-Val (the avg of five Test-scores) - This will serve as a baseline $R^2$ for the model"
   ]
  },
  {
   "cell_type": "markdown",
   "metadata": {},
   "source": [
    "**Look at your coefficients.** Are any of them wildly overblown? \n",
    "\n",
    "For every 1 unit increase in  𝑥𝑖 , we expect SalePrice to increase by  𝛽𝑖 ."
   ]
  },
  {
   "cell_type": "code",
   "execution_count": 193,
   "metadata": {},
   "outputs": [
    {
     "data": {
      "text/plain": [
       "class_2           51979.661838\n",
       "class_1           -3872.385622\n",
       "Overall Qual      23959.730398\n",
       "Gr Liv Area       21019.971478\n",
       "Garage Area        8894.217883\n",
       "Total Bsmt SF      4348.998562\n",
       "1st Flr SF         5994.257879\n",
       "Year Built         7685.169437\n",
       "Year Remod/Add     6434.387538\n",
       "dtype: float64"
      ]
     },
     "execution_count": 193,
     "metadata": {},
     "output_type": "execute_result"
    }
   ],
   "source": [
    "# The `lm` object contains our model's coefficients\n",
    "pd.Series(lm.coef_, index=features)[::-1]\n",
    "pd.Series(lm2.coef_, index=features2)[::-1]"
   ]
  },
  {
   "cell_type": "code",
   "execution_count": 194,
   "metadata": {},
   "outputs": [
    {
     "data": {
      "image/png": "[encoded data removed]",
      "text/plain": [
       "<Figure size 504x504 with 1 Axes>"
      ]
     },
     "metadata": {
      "needs_background": "light"
     },
     "output_type": "display_data"
    }
   ],
   "source": [
    "#pd.Series(lm.coef_, index=features).plot.barh(figsize=(7, 7));\n",
    "pd.Series(lm2.coef_, index=features2).plot.barh(figsize=(7, 7));\n",
    "plt.ylabel(f'Features', fontsize =15);\n",
    "plt.xlabel('Coefficients', fontsize=15);\n",
    "plt.title(f'Linear Regression Model', fontsize=15);\n",
    "#plt.tight_layout();"
   ]
  },
  {
   "cell_type": "code",
   "execution_count": 195,
   "metadata": {},
   "outputs": [
    {
     "name": "stdout",
     "output_type": "stream",
     "text": [
      "{'Year Remod/Add': 6163.78092492924, 'Year Built': 8968.494023158311, '1st Flr SF': 6612.027035431907, 'Total Bsmt SF': 5744.896013633481, 'Garage Area': 10243.796560119303, 'Gr Liv Area': 22860.74232346693, 'Overall Qual': 29022.187381358952, 'intercept': 181807.08072916663}\n",
      "Stored 'feature_dict' (dict)\n"
     ]
    }
   ],
   "source": [
    "feature_dict = {}\n",
    "for i in range(len(features)):\n",
    "    feature_dict[features[i]] = lm.coef_[i]\n",
    "feature_dict['intercept'] = lm.intercept_\n",
    "print(feature_dict)\n",
    "%store feature_dict"
   ]
  },
  {
   "cell_type": "code",
   "execution_count": 197,
   "metadata": {},
   "outputs": [],
   "source": [
    "feature_df = pd.DataFrame(feature_dict.values(), feature_dict.keys())"
   ]
  },
  {
   "cell_type": "code",
   "execution_count": 199,
   "metadata": {},
   "outputs": [
    {
     "data": {
      "text/plain": [
       "181807.08072916663"
      ]
     },
     "execution_count": 199,
     "metadata": {},
     "output_type": "execute_result"
    }
   ],
   "source": [
    "# And the y-intercept.\n",
    "lm.intercept_"
   ]
  },
  {
   "cell_type": "code",
   "execution_count": 200,
   "metadata": {},
   "outputs": [
    {
     "data": {
      "text/plain": [
       "177011.73177273272"
      ]
     },
     "execution_count": 200,
     "metadata": {},
     "output_type": "execute_result"
    }
   ],
   "source": [
    "# And the y-intercept.\n",
    "lm2.intercept_"
   ]
  },
  {
   "cell_type": "markdown",
   "metadata": {},
   "source": [
    "## Modeling\n",
    "- Go back and remove features that might be causing issues in your models.\n",
    "- Tune hyperparameters.\n",
    "- **Identify a production model.** (This is the model that best answers your problem statement.)\n",
    "- Refine and interpret your production model."
   ]
  },
  {
   "cell_type": "code",
   "execution_count": 201,
   "metadata": {},
   "outputs": [],
   "source": [
    "# Create predictions using the `lm` object.\n",
    "y_pred = lm.predict(Z_test)\n",
    "y_pred2 = lm2.predict(Z_test2)\n",
    "\n",
    "#Create a list of y_pred in X_test df b/c I want to use sns.regplot\n",
    "X_test['y_pred'] = y_pred\n",
    "Z_test2['y_pred'] = y_pred2"
   ]
  },
  {
   "cell_type": "code",
   "execution_count": 205,
   "metadata": {},
   "outputs": [
    {
     "data": {
      "text/html": [
       "<div>\n",
       "<style scoped>\n",
       "    .dataframe tbody tr th:only-of-type {\n",
       "        vertical-align: middle;\n",
       "    }\n",
       "\n",
       "    .dataframe tbody tr th {\n",
       "        vertical-align: top;\n",
       "    }\n",
       "\n",
       "    .dataframe thead th {\n",
       "        text-align: right;\n",
       "    }\n",
       "</style>\n",
       "<table border=\"1\" class=\"dataframe\">\n",
       "  <thead>\n",
       "    <tr style=\"text-align: right;\">\n",
       "      <th></th>\n",
       "      <th>Year Remod/Add</th>\n",
       "      <th>Year Built</th>\n",
       "      <th>1st Flr SF</th>\n",
       "      <th>Total Bsmt SF</th>\n",
       "      <th>Garage Area</th>\n",
       "      <th>Gr Liv Area</th>\n",
       "      <th>Overall Qual</th>\n",
       "      <th>class_1</th>\n",
       "      <th>class_2</th>\n",
       "      <th>y_pred</th>\n",
       "    </tr>\n",
       "  </thead>\n",
       "  <tbody>\n",
       "    <tr>\n",
       "      <th>1972</th>\n",
       "      <td>-1.626595</td>\n",
       "      <td>-1.085692</td>\n",
       "      <td>-0.221273</td>\n",
       "      <td>-0.149280</td>\n",
       "      <td>-1.244910</td>\n",
       "      <td>-0.844355</td>\n",
       "      <td>-0.781201</td>\n",
       "      <td>1</td>\n",
       "      <td>0</td>\n",
       "      <td>104815.707862</td>\n",
       "    </tr>\n",
       "    <tr>\n",
       "      <th>694</th>\n",
       "      <td>0.846619</td>\n",
       "      <td>-0.024709</td>\n",
       "      <td>1.662861</td>\n",
       "      <td>1.301578</td>\n",
       "      <td>1.228548</td>\n",
       "      <td>0.648631</td>\n",
       "      <td>0.621675</td>\n",
       "      <td>0</td>\n",
       "      <td>0</td>\n",
       "      <td>237353.821203</td>\n",
       "    </tr>\n",
       "    <tr>\n",
       "      <th>906</th>\n",
       "      <td>-0.580235</td>\n",
       "      <td>0.008447</td>\n",
       "      <td>-1.719499</td>\n",
       "      <td>-1.279703</td>\n",
       "      <td>-0.860458</td>\n",
       "      <td>-1.024232</td>\n",
       "      <td>-0.079763</td>\n",
       "      <td>1</td>\n",
       "      <td>0</td>\n",
       "      <td>122504.704600</td>\n",
       "    </tr>\n",
       "    <tr>\n",
       "      <th>544</th>\n",
       "      <td>-1.626595</td>\n",
       "      <td>-2.378766</td>\n",
       "      <td>-0.022014</td>\n",
       "      <td>0.037640</td>\n",
       "      <td>-0.610334</td>\n",
       "      <td>0.596666</td>\n",
       "      <td>-1.482639</td>\n",
       "      <td>0</td>\n",
       "      <td>0</td>\n",
       "      <td>119885.939544</td>\n",
       "    </tr>\n",
       "    <tr>\n",
       "      <th>1846</th>\n",
       "      <td>0.038068</td>\n",
       "      <td>-1.052537</td>\n",
       "      <td>-0.458366</td>\n",
       "      <td>-0.167082</td>\n",
       "      <td>-0.235146</td>\n",
       "      <td>0.500731</td>\n",
       "      <td>-0.079763</td>\n",
       "      <td>0</td>\n",
       "      <td>0</td>\n",
       "      <td>172216.362679</td>\n",
       "    </tr>\n",
       "  </tbody>\n",
       "</table>\n",
       "</div>"
      ],
      "text/plain": [
       "      Year Remod/Add  Year Built  1st Flr SF  Total Bsmt SF  Garage Area  \\\n",
       "1972       -1.626595   -1.085692   -0.221273      -0.149280    -1.244910   \n",
       "694         0.846619   -0.024709    1.662861       1.301578     1.228548   \n",
       "906        -0.580235    0.008447   -1.719499      -1.279703    -0.860458   \n",
       "544        -1.626595   -2.378766   -0.022014       0.037640    -0.610334   \n",
       "1846        0.038068   -1.052537   -0.458366      -0.167082    -0.235146   \n",
       "\n",
       "      Gr Liv Area  Overall Qual  class_1  class_2         y_pred  \n",
       "1972    -0.844355     -0.781201        1        0  104815.707862  \n",
       "694      0.648631      0.621675        0        0  237353.821203  \n",
       "906     -1.024232     -0.079763        1        0  122504.704600  \n",
       "544      0.596666     -1.482639        0        0  119885.939544  \n",
       "1846     0.500731     -0.079763        0        0  172216.362679  "
      ]
     },
     "execution_count": 205,
     "metadata": {},
     "output_type": "execute_result"
    }
   ],
   "source": [
    "# Check that all is copacetic\n",
    "Z_test2.head()"
   ]
  },
  {
   "cell_type": "code",
   "execution_count": 207,
   "metadata": {},
   "outputs": [
    {
     "name": "stdout",
     "output_type": "stream",
     "text": [
      "Stored 'X_test' (DataFrame)\n",
      "Stored 'Z_test2' (DataFrame)\n"
     ]
    }
   ],
   "source": [
    "%store X_test\n",
    "%store Z_test2"
   ]
  },
  {
   "cell_type": "code",
   "execution_count": null,
   "metadata": {},
   "outputs": [],
   "source": []
  }
 ],
 "metadata": {
  "kernelspec": {
   "display_name": "Python 3",
   "language": "python",
   "name": "python3"
  },
  "language_info": {
   "codemirror_mode": {
    "name": "ipython",
    "version": 3
   },
   "file_extension": ".py",
   "mimetype": "text/x-python",
   "name": "python",
   "nbconvert_exporter": "python",
   "pygments_lexer": "ipython3",
   "version": "3.8.3"
  }
 },
 "nbformat": 4,
 "nbformat_minor": 4
}

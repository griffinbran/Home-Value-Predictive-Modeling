{
 "cells": [
  {
   "cell_type": "markdown",
   "metadata": {},
   "source": [
    "## Modeling\n",
    "- **Establish your baseline score.**\n",
    "- Fit linear regression. Look at your coefficients. Are any of them wildly overblown?\n",
    "    **For every 1 unit increase in $x_i$, we expect SalePrice to increase by $\\beta_i$.**\n",
    "- Fit lasso/ridge/elastic net with default parameters.\n",
    "- Go back and remove features that might be causing issues in your models.\n",
    "- Tune hyperparameters.\n",
    "- **Identify a production model.** (This does not have to be your best performing Kaggle model, but rather the model that best answers your problem statement.)\n",
    "- Refine and interpret your production model."
   ]
  },
  {
   "cell_type": "code",
   "execution_count": 1,
   "metadata": {},
   "outputs": [],
   "source": [
    "# Imports\n",
    "import pandas as pd\n",
    "import numpy as np\n",
    "import matplotlib.pyplot as plt\n",
    "import seaborn as sns\n",
    "from sklearn.linear_model import LinearRegression, LassoCV, RidgeCV\n",
    "from sklearn.model_selection import train_test_split, cross_val_score\n",
    "from sklearn import metrics\n",
    "import statsmodels.api as sm"
   ]
  },
  {
   "cell_type": "code",
   "execution_count": 2,
   "metadata": {},
   "outputs": [],
   "source": [
    "# Use IPython magic command %store to pass scaled & Test/Train-Split variables to Notebook: 03_Model_Benchmarks for model validation\n",
    "# Got help from Stack Overflow on sharing variables between notebooks\n",
    "#<https://stackoverflow.com/questions/31621414/share-data-between-ipython-notebooks>\n",
    "# Access scaled & Test/Train-Split variables from Notebook: 02_Preprocessing_and_Feature_Engineering\n",
    "\n",
    "# Model 1 Variables\n",
    "%store -r Z_train\n",
    "%store -r Z_test\n",
    "%store -r y_train\n",
    "%store -r y_test\n",
    "%store -r features\n",
    "\n",
    "# Model 2 Variables\n",
    "%store -r Z_train2\n",
    "%store -r Z_test2\n",
    "%store -r y_train2\n",
    "%store -r y_test2\n",
    "%store -r features2\n",
    "%store -r features2_dummified\n",
    "\n",
    "# Model 3 Variables\n",
    "%store -r Z_train3\n",
    "%store -r Z_test3\n",
    "%store -r y_train3\n",
    "%store -r y_test3\n",
    "%store -r features3\n",
    "%store -r features3_dummified\n",
    "\n",
    "# Model 4 Variables\n",
    "%store -r Z_train4\n",
    "%store -r Z_test4\n",
    "%store -r y_train4\n",
    "%store -r y_test4\n",
    "%store -r features4\n",
    "%store -r features4_dummified"
   ]
  },
  {
   "cell_type": "markdown",
   "metadata": {},
   "source": [
    "### Model Preparation"
   ]
  },
  {
   "cell_type": "markdown",
   "metadata": {},
   "source": [
    "##### Establish Baseline Score: Null Model"
   ]
  },
  {
   "cell_type": "code",
   "execution_count": null,
   "metadata": {},
   "outputs": [],
   "source": []
  },
  {
   "cell_type": "markdown",
   "metadata": {},
   "source": [
    "##### Instantiate the models"
   ]
  },
  {
   "cell_type": "code",
   "execution_count": 3,
   "metadata": {},
   "outputs": [],
   "source": [
    "# Instantiate OLS regression\n",
    "lm = LinearRegression()\n",
    "lm2 = LinearRegression()\n",
    "lm3 = LinearRegression()\n",
    "lm4 = LinearRegression()"
   ]
  },
  {
   "cell_type": "code",
   "execution_count": 4,
   "metadata": {},
   "outputs": [],
   "source": [
    "# Cross-Val Scores\n",
    "lm_scores  = cross_val_score(lm,  Z_train,  y_train,  cv=5)\n",
    "lm2_scores = cross_val_score(lm2, Z_train2, y_train2, cv=5)\n",
    "lm3_scores = cross_val_score(lm3, Z_train3, y_train3, cv=5)\n",
    "lm4_scores = cross_val_score(lm4, Z_train4, y_train4, cv=5)"
   ]
  },
  {
   "cell_type": "code",
   "execution_count": 5,
   "metadata": {},
   "outputs": [
    {
     "name": "stdout",
     "output_type": "stream",
     "text": [
      "0.8255350620038329 0.844264294985785 0.868905621583161 0.8625798698924434\n"
     ]
    }
   ],
   "source": [
    "print(lm_scores.mean(),lm2_scores.mean(), lm3_scores.mean(), lm4_scores.mean())"
   ]
  },
  {
   "cell_type": "code",
   "execution_count": 6,
   "metadata": {},
   "outputs": [],
   "source": [
    "# Instantiate LassoCV, fit with default parameters\n",
    "lasso  = LassoCV(n_alphas=200)\n",
    "lasso2 = LassoCV(n_alphas=200)\n",
    "lasso3 = LassoCV(n_alphas=200)\n",
    "lasso4 = LassoCV(n_alphas=200)"
   ]
  },
  {
   "cell_type": "code",
   "execution_count": 7,
   "metadata": {},
   "outputs": [],
   "source": [
    "# Use cross_val_score to evaluate LassoCV\n",
    "lasso_scores  = cross_val_score(lasso,  Z_train,  y_train,  cv=5)\n",
    "lasso2_scores = cross_val_score(lasso2, Z_train2, y_train2, cv=5)\n",
    "lasso3_scores = cross_val_score(lasso3, Z_train3, y_train3, cv=5)\n",
    "lasso4_scores = cross_val_score(lasso4, Z_train4, y_train4, cv=5)"
   ]
  },
  {
   "cell_type": "code",
   "execution_count": 8,
   "metadata": {},
   "outputs": [
    {
     "name": "stdout",
     "output_type": "stream",
     "text": [
      "0.8255400995531034 0.8443413877421102 0.8686801446353531 0.8655335174522462\n"
     ]
    }
   ],
   "source": [
    "print(lasso_scores.mean(),lasso2_scores.mean(),lasso3_scores.mean(),lasso4_scores.mean())"
   ]
  },
  {
   "cell_type": "code",
   "execution_count": 9,
   "metadata": {},
   "outputs": [],
   "source": [
    "# Instantiate RidgeCV, fit with default parameters\n",
    "ridge  = RidgeCV(alphas=np.linspace(.1, 10, 100))\n",
    "ridge2 = RidgeCV(alphas=np.linspace(.1, 10, 100))\n",
    "ridge3 = RidgeCV(alphas=np.linspace(.1, 10, 100))\n",
    "ridge4 = RidgeCV(alphas=np.linspace(.1, 10, 100))"
   ]
  },
  {
   "cell_type": "code",
   "execution_count": 10,
   "metadata": {},
   "outputs": [],
   "source": [
    "# Use cross_val_score to evaluate RidgeCV\n",
    "ridge_scores  = cross_val_score(ridge,  Z_train,  y_train,  cv=5)\n",
    "ridge2_scores = cross_val_score(ridge2, Z_train2, y_train2, cv=5)\n",
    "ridge3_scores = cross_val_score(ridge3, Z_train3, y_train3, cv=5)\n",
    "ridge4_scores = cross_val_score(ridge4, Z_train4, y_train4, cv=5)"
   ]
  },
  {
   "cell_type": "code",
   "execution_count": 11,
   "metadata": {},
   "outputs": [
    {
     "name": "stdout",
     "output_type": "stream",
     "text": [
      "0.8256013182256503 0.8442942827486402 0.8690152854776068 0.8680751657609687\n"
     ]
    }
   ],
   "source": [
    "print(ridge_scores.mean(), ridge2_scores.mean(), ridge3_scores.mean(), ridge4_scores.mean())"
   ]
  },
  {
   "cell_type": "markdown",
   "metadata": {},
   "source": [
    "##### Fit the best performing model"
   ]
  },
  {
   "cell_type": "code",
   "execution_count": 12,
   "metadata": {},
   "outputs": [
    {
     "name": "stdout",
     "output_type": "stream",
     "text": [
      "LinearReg 1:    Train=0.828701,\n",
      "\t\tTest= 0.829431, \n",
      "Cross-Val Score:Train=0.825535\n",
      "\n",
      "LinearReg 2:    Train=0.848060,\n",
      "\t\tTest= 0.842411,\n",
      "Cross-Val Score:Train=0.844264\n",
      "\n",
      "LinearReg 3:    Train=0.874446,\n",
      "\t\tTest= 0.875300, \n",
      "Cross-Val Score:Train=0.868906\n",
      "\n",
      "LinearReg 4:    Train=0.877838,\n",
      "\t\tTest= 0.876108, \n",
      "Cross-Val Score:Train=0.862580\n"
     ]
    }
   ],
   "source": [
    "# Fit the linear regression to chosen scaled-features\n",
    "lm.fit(Z_train, y_train)\n",
    "lm2.fit(Z_train2, y_train2)\n",
    "lm3.fit(Z_train3, y_train3)\n",
    "lm4.fit(Z_train4, y_train4)\n",
    "\n",
    "# 1. Train Score\n",
    "lm_train_score = lm.score(Z_train,y_train)\n",
    "lm2_train_score = lm2.score(Z_train2,y_train2)\n",
    "lm3_train_score = lm3.score(Z_train3, y_train3)\n",
    "lm4_train_score = lm4.score(Z_train4, y_train4)\n",
    "\n",
    "# 2. Test Score\n",
    "lm_test_score  = lm.score( Z_test,  y_test)\n",
    "lm2_test_score = lm2.score(Z_test2, y_test2)\n",
    "lm3_test_score = lm3.score(Z_test3, y_test3)\n",
    "lm4_test_score = lm4.score(Z_test4, y_test4)\n",
    "\n",
    "print(f'LinearReg 1:    Train={lm_train_score:.6f},\\n\\t\\tTest= {lm_test_score:.6f}, \\nCross-Val Score:Train={lm_scores.mean():.6f}\\n')\n",
    "print(f'LinearReg 2:    Train={lm2_train_score:.6f},\\n\\t\\tTest= {lm2_test_score:.6f},\\nCross-Val Score:Train={lm2_scores.mean():.6f}\\n')\n",
    "print(f'LinearReg 3:    Train={lm3_train_score:.6f},\\n\\t\\tTest= {lm3_test_score:.6f}, \\nCross-Val Score:Train={lm3_scores.mean():.6f}\\n')\n",
    "print(f'LinearReg 4:    Train={lm4_train_score:.6f},\\n\\t\\tTest= {lm4_test_score:.6f}, \\nCross-Val Score:Train={lm4_scores.mean():.6f}')"
   ]
  },
  {
   "cell_type": "code",
   "execution_count": 13,
   "metadata": {},
   "outputs": [
    {
     "name": "stdout",
     "output_type": "stream",
     "text": [
      "LassoCV 1:   Train=0.8286997327682366, Test=0.8293404037879297, \n",
      "Cross-Val Score: Train=0.8255400995531034\n",
      "LassoCV 2:   Train=0.8480483894206118, Test=0.842524075994664, \n",
      "Cross-Val Score: Train=0.8443413877421102\n",
      "LassoCV 3:   Train=0.8740250491341721, Test=0.8752848518532919, \n",
      "Cross-Val Score: Train=0.8686801446353531\n",
      "LassoCV 4:   Train=0.8744696089816684, Test=0.8793848096202985, \n",
      "Cross-Val Score: Train=0.8655335174522462\n"
     ]
    }
   ],
   "source": [
    "##### Fit the lasso regression to chosen scaled-features\n",
    "lasso.fit(Z_train, y_train)\n",
    "lasso2.fit(Z_train2, y_train2)\n",
    "lasso3.fit(Z_train3, y_train3)\n",
    "lasso4.fit(Z_train4, y_train4)\n",
    "\n",
    "# 1. Train Score\n",
    "lasso_train_score  = lasso.score(Z_train,y_train)\n",
    "lasso2_train_score = lasso2.score(Z_train2,y_train2)\n",
    "lasso3_train_score = lasso3.score(Z_train3,y_train3)\n",
    "lasso4_train_score = lasso4.score(Z_train4,y_train4)\n",
    "\n",
    "# 2. Test Score\n",
    "lasso_test_score  = lasso.score(Z_test, y_test)\n",
    "lasso2_test_score = lasso2.score(Z_test2, y_test2)\n",
    "lasso3_test_score = lasso3.score(Z_test3, y_test3)\n",
    "lasso4_test_score = lasso4.score(Z_test4, y_test4)\n",
    "\n",
    "print(f'LassoCV 1:   Train={lasso_train_score}, Test={lasso_test_score}, \\nCross-Val Score: Train={lasso_scores.mean()}')\n",
    "print(f'LassoCV 2:   Train={lasso2_train_score}, Test={lasso2_test_score}, \\nCross-Val Score: Train={lasso2_scores.mean()}')\n",
    "print(f'LassoCV 3:   Train={lasso3_train_score}, Test={lasso3_test_score}, \\nCross-Val Score: Train={lasso3_scores.mean()}')\n",
    "print(f'LassoCV 4:   Train={lasso4_train_score}, Test={lasso4_test_score}, \\nCross-Val Score: Train={lasso4_scores.mean()}')"
   ]
  },
  {
   "cell_type": "code",
   "execution_count": 14,
   "metadata": {},
   "outputs": [
    {
     "name": "stdout",
     "output_type": "stream",
     "text": [
      "RidgeCV r2 Score 1:   Train=0.8286929472388197, Test=0.8292964728957292, \n",
      "Cross-Val Score: Train=0.8256013182256503\n",
      "RidgeCV r2 Score 2:   Train=0.8480498693739363, Test=0.8424800270587778, \n",
      "Cross-Val Score: Train=0.8442942827486402\n",
      "RidgeCV r2 Score 3:   Train=0.8743292367369074, Test=0.8750761138742769, \n",
      "Cross-Val Score: Train=0.8690152854776068\n",
      "RidgeCV r2 Score 4:   Train=0.8759464594490652, Test=0.8805957841602731, \n",
      "Cross-Val Score: Train=0.8680751657609687\n"
     ]
    }
   ],
   "source": [
    "# Fit the Ridge regression to chosen scaled-features\n",
    "ridge.fit(Z_train, y_train)\n",
    "ridge2.fit(Z_train2, y_train2)\n",
    "ridge3.fit(Z_train3, y_train3)\n",
    "ridge4.fit(Z_train4, y_train4)\n",
    "\n",
    "# 1. Train Score\n",
    "ridge_train_score = ridge.score(Z_train,y_train)\n",
    "ridge2_train_score = ridge2.score(Z_train2,y_train2)\n",
    "ridge3_train_score = ridge3.score(Z_train3,y_train3)\n",
    "ridge4_train_score = ridge4.score(Z_train4,y_train4)\n",
    "\n",
    "# 2. Test Score\n",
    "ridge_test_score = ridge.score(Z_test, y_test)\n",
    "ridge2_test_score = ridge2.score(Z_test2, y_test2)\n",
    "ridge3_test_score = ridge3.score(Z_test3, y_test3)\n",
    "ridge4_test_score = ridge4.score(Z_test4, y_test4)\n",
    "\n",
    "print(f'RidgeCV r2 Score 1:   Train={ridge_train_score}, Test={ridge_test_score}, \\nCross-Val Score: Train={ridge_scores.mean()}')\n",
    "print(f'RidgeCV r2 Score 2:   Train={ridge2_train_score}, Test={ridge2_test_score}, \\nCross-Val Score: Train={ridge2_scores.mean()}')\n",
    "print(f'RidgeCV r2 Score 3:   Train={ridge3_train_score}, Test={ridge3_test_score}, \\nCross-Val Score: Train={ridge3_scores.mean()}')\n",
    "print(f'RidgeCV r2 Score 4:   Train={ridge4_train_score}, Test={ridge4_test_score}, \\nCross-Val Score: Train={ridge4_scores.mean()}')"
   ]
  },
  {
   "cell_type": "markdown",
   "metadata": {},
   "source": [
    "3. Cross-Val (the avg of five Test-scores) - This will serve as a baseline $R^2$ for the model"
   ]
  },
  {
   "cell_type": "markdown",
   "metadata": {},
   "source": [
    "**Look at your coefficients.** Are any of them wildly overblown? \n",
    "\n",
    "For every 1 unit increase in  𝑥𝑖 , we expect SalePrice to increase by  𝛽𝑖 ."
   ]
  },
  {
   "cell_type": "code",
   "execution_count": 15,
   "metadata": {},
   "outputs": [
    {
     "name": "stdout",
     "output_type": "stream",
     "text": [
      "0.04:\tNeighborhoodC_2\n",
      "-0.03:\tNeighborhoodC_1\n",
      "-0.06:\tCentral AirC_1\n",
      "0.03:\tHeating QCC_2\n",
      "-0.63:\tHeating QCC_1\n",
      "-0.05:\tFoundationC_1\n",
      "0.08:\tExter QualC_2\n",
      "-0.17:\tExter QualC_1\n",
      "-0.12:\tExterior 1stC_1\n",
      "-0.07:\tBldg TypeC_1\n",
      "0.05:\tCondition 1C_2\n",
      "-0.03:\tCondition 1C_1\n",
      "0.04:\tLot ConfigC_1\n",
      "0.06:\tLand ContourC_1\n",
      "-0.08:\tLot ShapeC_1\n",
      "-0.12:\tPaved DriveC_1\n",
      "0.11:\tOverall Qual\n",
      "0.13:\tGr Liv Area\n",
      "0.03:\tGarage Area\n",
      "0.05:\tTotal Bsmt SF\n",
      "0.02:\t1st Flr SF\n",
      "0.03:\tYear Remod/Add\n",
      "0.04:\tYear Built/Remod\n"
     ]
    }
   ],
   "source": [
    "# The `lm` object contains our model's coefficients\n",
    "coeff1 = pd.Series(lm.coef_,  index=features )[::-1]   # Model 1 Coefficients\n",
    "coeff2 = pd.Series(lm2.coef_, index=features2_dummified)[::-1] # Model 2 Coefficients\n",
    "coeff3 = pd.Series(lm3.coef_, index=features3_dummified)[::-1] # Model 3 Coefficients\n",
    "coeff4 = pd.Series(lm4.coef_, index=features4_dummified)[::-1] # Model 4 Coefficients\n",
    "\n",
    "for i in range(len(coeff4)):\n",
    "    print(f'{coeff4[i]:,.2f}:\\t{coeff4.index[i]}')"
   ]
  },
  {
   "cell_type": "markdown",
   "metadata": {},
   "source": [
    "#### pd.Series(lm.coef_, index=features).plot.barh(figsize=(7, 7));\n",
    "#pd.Series(lm2.coef_, index=features2_dummified).plot.barh(figsize=(7, 7));\n",
    "#pd.Series(lm3.coef_, index=features3_dummified).plot.barh(figsize=(7, 7));\n",
    "ax = pd.Series(lm4.coef_, index=features4_dummified).plot.barh(figsize=(7, 7));\n",
    "\n",
    "plt.xlabel('Standardized Features', fontsize=15);\n",
    "plt.title(f'OLS Regression Coefficients', fontsize=15);\n",
    "ax.yaxis.tick_right()\n",
    "plt.yticks(list(range(23)), ['Year Built*Year Remodeled', 'Year Remodeled', '1st Floor Size','Total Basement Size','Garage Size','Above Grade Living Area', 'Overall Quality',\n",
    "             'Unpaved Driveway', 'Highly Irregular Lot Shape', 'Hillside Views','Cul-de-sac Lot Configuration', 'Near Major Streets/RR', 'Near outdoor attraction/feature nearby','Compact Dwellings' ,\n",
    "             'Asbestos Exterior','Fair Exterior Quality','Excellent Exterior Quality', 'Brick/Slab Foundation','Fair/Poor Heating Quality', 'Excellent Heating Quality', 'No A/C', 'Class 1 Neighborhoods', 'Class 2 Neighborhoods']);\n",
    "plt.savefig( '../images/CoefficientsBarPlot.png');"
   ]
  },
  {
   "cell_type": "code",
   "execution_count": 16,
   "metadata": {},
   "outputs": [
    {
     "data": {
      "text/html": [
       "<table class=\"simpletable\">\n",
       "<caption>OLS Regression Results</caption>\n",
       "<tr>\n",
       "  <th>Dep. Variable:</th>        <td>SalePrice</td>    <th>  R-squared:         </th> <td>   0.878</td>\n",
       "</tr>\n",
       "<tr>\n",
       "  <th>Model:</th>                   <td>OLS</td>       <th>  Adj. R-squared:    </th> <td>   0.876</td>\n",
       "</tr>\n",
       "<tr>\n",
       "  <th>Method:</th>             <td>Least Squares</td>  <th>  F-statistic:       </th> <td>   472.1</td>\n",
       "</tr>\n",
       "<tr>\n",
       "  <th>Date:</th>             <td>Wed, 14 Oct 2020</td> <th>  Prob (F-statistic):</th>  <td>  0.00</td> \n",
       "</tr>\n",
       "<tr>\n",
       "  <th>Time:</th>                 <td>11:59:04</td>     <th>  Log-Likelihood:    </th> <td>  815.67</td>\n",
       "</tr>\n",
       "<tr>\n",
       "  <th>No. Observations:</th>      <td>  1535</td>      <th>  AIC:               </th> <td>  -1583.</td>\n",
       "</tr>\n",
       "<tr>\n",
       "  <th>Df Residuals:</th>          <td>  1511</td>      <th>  BIC:               </th> <td>  -1455.</td>\n",
       "</tr>\n",
       "<tr>\n",
       "  <th>Df Model:</th>              <td>    23</td>      <th>                     </th>     <td> </td>   \n",
       "</tr>\n",
       "<tr>\n",
       "  <th>Covariance Type:</th>      <td>nonrobust</td>    <th>                     </th>     <td> </td>   \n",
       "</tr>\n",
       "</table>\n",
       "<table class=\"simpletable\">\n",
       "<tr>\n",
       "          <td></td>            <th>coef</th>     <th>std err</th>      <th>t</th>      <th>P>|t|</th>  <th>[0.025</th>    <th>0.975]</th>  \n",
       "</tr>\n",
       "<tr>\n",
       "  <th>const</th>            <td>   12.0424</td> <td>    0.007</td> <td> 1717.649</td> <td> 0.000</td> <td>   12.029</td> <td>   12.056</td>\n",
       "</tr>\n",
       "<tr>\n",
       "  <th>Year Built/Remod</th> <td>    0.0384</td> <td>    0.010</td> <td>    3.940</td> <td> 0.000</td> <td>    0.019</td> <td>    0.057</td>\n",
       "</tr>\n",
       "<tr>\n",
       "  <th>Year Remod/Add</th>   <td>    0.0265</td> <td>    0.008</td> <td>    3.396</td> <td> 0.001</td> <td>    0.011</td> <td>    0.042</td>\n",
       "</tr>\n",
       "<tr>\n",
       "  <th>1st Flr SF</th>       <td>    0.0224</td> <td>    0.007</td> <td>    3.408</td> <td> 0.001</td> <td>    0.010</td> <td>    0.035</td>\n",
       "</tr>\n",
       "<tr>\n",
       "  <th>Total Bsmt SF</th>    <td>    0.0516</td> <td>    0.007</td> <td>    7.696</td> <td> 0.000</td> <td>    0.038</td> <td>    0.065</td>\n",
       "</tr>\n",
       "<tr>\n",
       "  <th>Garage Area</th>      <td>    0.0298</td> <td>    0.005</td> <td>    6.034</td> <td> 0.000</td> <td>    0.020</td> <td>    0.040</td>\n",
       "</tr>\n",
       "<tr>\n",
       "  <th>Gr Liv Area</th>      <td>    0.1308</td> <td>    0.005</td> <td>   25.495</td> <td> 0.000</td> <td>    0.121</td> <td>    0.141</td>\n",
       "</tr>\n",
       "<tr>\n",
       "  <th>Overall Qual</th>     <td>    0.1099</td> <td>    0.006</td> <td>   17.088</td> <td> 0.000</td> <td>    0.097</td> <td>    0.123</td>\n",
       "</tr>\n",
       "<tr>\n",
       "  <th>Paved DriveC_1</th>   <td>   -0.1227</td> <td>    0.015</td> <td>   -8.156</td> <td> 0.000</td> <td>   -0.152</td> <td>   -0.093</td>\n",
       "</tr>\n",
       "<tr>\n",
       "  <th>Lot ShapeC_1</th>     <td>   -0.0755</td> <td>    0.051</td> <td>   -1.478</td> <td> 0.140</td> <td>   -0.176</td> <td>    0.025</td>\n",
       "</tr>\n",
       "<tr>\n",
       "  <th>Land ContourC_1</th>  <td>    0.0626</td> <td>    0.019</td> <td>    3.298</td> <td> 0.001</td> <td>    0.025</td> <td>    0.100</td>\n",
       "</tr>\n",
       "<tr>\n",
       "  <th>Lot ConfigC_1</th>    <td>    0.0366</td> <td>    0.015</td> <td>    2.388</td> <td> 0.017</td> <td>    0.007</td> <td>    0.067</td>\n",
       "</tr>\n",
       "<tr>\n",
       "  <th>Condition 1C_1</th>   <td>   -0.0318</td> <td>    0.013</td> <td>   -2.381</td> <td> 0.017</td> <td>   -0.058</td> <td>   -0.006</td>\n",
       "</tr>\n",
       "<tr>\n",
       "  <th>Condition 1C_2</th>   <td>    0.0526</td> <td>    0.046</td> <td>    1.138</td> <td> 0.255</td> <td>   -0.038</td> <td>    0.143</td>\n",
       "</tr>\n",
       "<tr>\n",
       "  <th>Bldg TypeC_1</th>     <td>   -0.0666</td> <td>    0.014</td> <td>   -4.911</td> <td> 0.000</td> <td>   -0.093</td> <td>   -0.040</td>\n",
       "</tr>\n",
       "<tr>\n",
       "  <th>Exterior 1stC_1</th>  <td>   -0.1233</td> <td>    0.029</td> <td>   -4.284</td> <td> 0.000</td> <td>   -0.180</td> <td>   -0.067</td>\n",
       "</tr>\n",
       "<tr>\n",
       "  <th>Exter QualC_1</th>    <td>   -0.1724</td> <td>    0.034</td> <td>   -5.033</td> <td> 0.000</td> <td>   -0.240</td> <td>   -0.105</td>\n",
       "</tr>\n",
       "<tr>\n",
       "  <th>Exter QualC_2</th>    <td>    0.0783</td> <td>    0.023</td> <td>    3.401</td> <td> 0.001</td> <td>    0.033</td> <td>    0.123</td>\n",
       "</tr>\n",
       "<tr>\n",
       "  <th>FoundationC_1</th>    <td>   -0.0469</td> <td>    0.014</td> <td>   -3.328</td> <td> 0.001</td> <td>   -0.074</td> <td>   -0.019</td>\n",
       "</tr>\n",
       "<tr>\n",
       "  <th>Heating QCC_1</th>    <td>   -0.6280</td> <td>    0.105</td> <td>   -6.006</td> <td> 0.000</td> <td>   -0.833</td> <td>   -0.423</td>\n",
       "</tr>\n",
       "<tr>\n",
       "  <th>Heating QCC_2</th>    <td>    0.0301</td> <td>    0.009</td> <td>    3.316</td> <td> 0.001</td> <td>    0.012</td> <td>    0.048</td>\n",
       "</tr>\n",
       "<tr>\n",
       "  <th>Central AirC_1</th>   <td>   -0.0639</td> <td>    0.017</td> <td>   -3.726</td> <td> 0.000</td> <td>   -0.098</td> <td>   -0.030</td>\n",
       "</tr>\n",
       "<tr>\n",
       "  <th>NeighborhoodC_1</th>  <td>   -0.0343</td> <td>    0.011</td> <td>   -3.205</td> <td> 0.001</td> <td>   -0.055</td> <td>   -0.013</td>\n",
       "</tr>\n",
       "<tr>\n",
       "  <th>NeighborhoodC_2</th>  <td>    0.0444</td> <td>    0.015</td> <td>    2.900</td> <td> 0.004</td> <td>    0.014</td> <td>    0.074</td>\n",
       "</tr>\n",
       "</table>\n",
       "<table class=\"simpletable\">\n",
       "<tr>\n",
       "  <th>Omnibus:</th>       <td>672.492</td> <th>  Durbin-Watson:     </th> <td>   2.006</td> \n",
       "</tr>\n",
       "<tr>\n",
       "  <th>Prob(Omnibus):</th> <td> 0.000</td>  <th>  Jarque-Bera (JB):  </th> <td>13744.349</td>\n",
       "</tr>\n",
       "<tr>\n",
       "  <th>Skew:</th>          <td>-1.542</td>  <th>  Prob(JB):          </th> <td>    0.00</td> \n",
       "</tr>\n",
       "<tr>\n",
       "  <th>Kurtosis:</th>      <td>17.331</td>  <th>  Cond. No.          </th> <td>    57.1</td> \n",
       "</tr>\n",
       "</table><br/><br/>Warnings:<br/>[1] Standard Errors assume that the covariance matrix of the errors is correctly specified."
      ],
      "text/plain": [
       "<class 'statsmodels.iolib.summary.Summary'>\n",
       "\"\"\"\n",
       "                            OLS Regression Results                            \n",
       "==============================================================================\n",
       "Dep. Variable:              SalePrice   R-squared:                       0.878\n",
       "Model:                            OLS   Adj. R-squared:                  0.876\n",
       "Method:                 Least Squares   F-statistic:                     472.1\n",
       "Date:                Wed, 14 Oct 2020   Prob (F-statistic):               0.00\n",
       "Time:                        11:59:04   Log-Likelihood:                 815.67\n",
       "No. Observations:                1535   AIC:                            -1583.\n",
       "Df Residuals:                    1511   BIC:                            -1455.\n",
       "Df Model:                          23                                         \n",
       "Covariance Type:            nonrobust                                         \n",
       "====================================================================================\n",
       "                       coef    std err          t      P>|t|      [0.025      0.975]\n",
       "------------------------------------------------------------------------------------\n",
       "const               12.0424      0.007   1717.649      0.000      12.029      12.056\n",
       "Year Built/Remod     0.0384      0.010      3.940      0.000       0.019       0.057\n",
       "Year Remod/Add       0.0265      0.008      3.396      0.001       0.011       0.042\n",
       "1st Flr SF           0.0224      0.007      3.408      0.001       0.010       0.035\n",
       "Total Bsmt SF        0.0516      0.007      7.696      0.000       0.038       0.065\n",
       "Garage Area          0.0298      0.005      6.034      0.000       0.020       0.040\n",
       "Gr Liv Area          0.1308      0.005     25.495      0.000       0.121       0.141\n",
       "Overall Qual         0.1099      0.006     17.088      0.000       0.097       0.123\n",
       "Paved DriveC_1      -0.1227      0.015     -8.156      0.000      -0.152      -0.093\n",
       "Lot ShapeC_1        -0.0755      0.051     -1.478      0.140      -0.176       0.025\n",
       "Land ContourC_1      0.0626      0.019      3.298      0.001       0.025       0.100\n",
       "Lot ConfigC_1        0.0366      0.015      2.388      0.017       0.007       0.067\n",
       "Condition 1C_1      -0.0318      0.013     -2.381      0.017      -0.058      -0.006\n",
       "Condition 1C_2       0.0526      0.046      1.138      0.255      -0.038       0.143\n",
       "Bldg TypeC_1        -0.0666      0.014     -4.911      0.000      -0.093      -0.040\n",
       "Exterior 1stC_1     -0.1233      0.029     -4.284      0.000      -0.180      -0.067\n",
       "Exter QualC_1       -0.1724      0.034     -5.033      0.000      -0.240      -0.105\n",
       "Exter QualC_2        0.0783      0.023      3.401      0.001       0.033       0.123\n",
       "FoundationC_1       -0.0469      0.014     -3.328      0.001      -0.074      -0.019\n",
       "Heating QCC_1       -0.6280      0.105     -6.006      0.000      -0.833      -0.423\n",
       "Heating QCC_2        0.0301      0.009      3.316      0.001       0.012       0.048\n",
       "Central AirC_1      -0.0639      0.017     -3.726      0.000      -0.098      -0.030\n",
       "NeighborhoodC_1     -0.0343      0.011     -3.205      0.001      -0.055      -0.013\n",
       "NeighborhoodC_2      0.0444      0.015      2.900      0.004       0.014       0.074\n",
       "==============================================================================\n",
       "Omnibus:                      672.492   Durbin-Watson:                   2.006\n",
       "Prob(Omnibus):                  0.000   Jarque-Bera (JB):            13744.349\n",
       "Skew:                          -1.542   Prob(JB):                         0.00\n",
       "Kurtosis:                      17.331   Cond. No.                         57.1\n",
       "==============================================================================\n",
       "\n",
       "Warnings:\n",
       "[1] Standard Errors assume that the covariance matrix of the errors is correctly specified.\n",
       "\"\"\""
      ]
     },
     "execution_count": 16,
     "metadata": {},
     "output_type": "execute_result"
    }
   ],
   "source": [
    "# Investigate p-values\n",
    "Z_train4 = sm.add_constant(Z_train4, prepend=True)\n",
    "results = sm.OLS(y_train4, Z_train4).fit()\n",
    "results.summary()"
   ]
  },
  {
   "cell_type": "code",
   "execution_count": 17,
   "metadata": {},
   "outputs": [
    {
     "name": "stdout",
     "output_type": "stream",
     "text": [
      "{'Year Remod/Add': 6620.134411628421, 'Year Built': 7501.748080552902, '1st Flr SF': 5836.855982582607, 'Total Bsmt SF': 13232.22128644088, 'Garage Area': 9703.314052728982, 'Gr Liv Area': 25308.68394047182, 'Overall Qual': 24491.524069321837, 'intercept': 181907.60679824272}\n",
      "Stored 'feature_dict' (dict)\n"
     ]
    }
   ],
   "source": [
    "feature_dict = {}\n",
    "for i in range(len(features)):\n",
    "    feature_dict[features[i]] = lm.coef_[i]\n",
    "feature_dict['intercept'] = lm.intercept_\n",
    "print(feature_dict)\n",
    "%store feature_dict"
   ]
  },
  {
   "cell_type": "code",
   "execution_count": 18,
   "metadata": {},
   "outputs": [],
   "source": [
    "feature_df = pd.DataFrame(feature_dict.values(), feature_dict.keys())"
   ]
  },
  {
   "cell_type": "code",
   "execution_count": 19,
   "metadata": {},
   "outputs": [
    {
     "name": "stdout",
     "output_type": "stream",
     "text": [
      "Model 1 Intercept: 181,907.61\n",
      "Model 2 Intercept: 178,022.25\n",
      "Model 3 Intercept: 175,346.06\n",
      "Model 4 Intercept: 169,796.27\n"
     ]
    }
   ],
   "source": [
    "# And the y-intercept.\n",
    "print(f'Model 1 Intercept: {lm.intercept_:,.2f}')\n",
    "print(f'Model 2 Intercept: {lm2.intercept_:,.2f}')\n",
    "print(f'Model 3 Intercept: {lm3.intercept_:,.2f}')\n",
    "print(f'Model 4 Intercept: {np.exp(lm4.intercept_):,.2f}')"
   ]
  },
  {
   "cell_type": "markdown",
   "metadata": {},
   "source": [
    "## Modeling\n",
    "- Go back and remove features that might be causing issues in your models.\n",
    "- Tune hyperparameters.\n",
    "- **Identify a production model.** (This is the model that best answers your problem statement.)\n",
    "- Refine and interpret your production model."
   ]
  },
  {
   "cell_type": "code",
   "execution_count": 20,
   "metadata": {},
   "outputs": [],
   "source": [
    "# Create predictions using the `lm` object.\n",
    "y_pred = lm.predict(Z_test)\n",
    "y_pred2 = lm2.predict(Z_test2)\n",
    "y_pred3 = lm3.predict(Z_test3)\n",
    "y_pred4 = lm4.predict(Z_test4)\n",
    "\n",
    "#Create a list of y_pred in X_test df b/c I want to use sns.regplot\n",
    "Z_test['y_pred']  = y_pred\n",
    "Z_test2['y_pred'] = y_pred2\n",
    "Z_test3['y_pred'] = y_pred3\n",
    "Z_test4['y_pred'] = y_pred4"
   ]
  },
  {
   "cell_type": "code",
   "execution_count": 21,
   "metadata": {},
   "outputs": [
    {
     "name": "stdout",
     "output_type": "stream",
     "text": [
      "Stored 'y_score4' (ndarray)\n"
     ]
    }
   ],
   "source": [
    "y_score4 = np.exp(y_pred4)\n",
    "%store y_score4"
   ]
  },
  {
   "cell_type": "code",
   "execution_count": 22,
   "metadata": {},
   "outputs": [
    {
     "data": {
      "text/html": [
       "<div>\n",
       "<style scoped>\n",
       "    .dataframe tbody tr th:only-of-type {\n",
       "        vertical-align: middle;\n",
       "    }\n",
       "\n",
       "    .dataframe tbody tr th {\n",
       "        vertical-align: top;\n",
       "    }\n",
       "\n",
       "    .dataframe thead th {\n",
       "        text-align: right;\n",
       "    }\n",
       "</style>\n",
       "<table border=\"1\" class=\"dataframe\">\n",
       "  <thead>\n",
       "    <tr style=\"text-align: right;\">\n",
       "      <th></th>\n",
       "      <th>Year Remod/Add</th>\n",
       "      <th>Year Built</th>\n",
       "      <th>1st Flr SF</th>\n",
       "      <th>Total Bsmt SF</th>\n",
       "      <th>Garage Area</th>\n",
       "      <th>Gr Liv Area</th>\n",
       "      <th>Overall Qual</th>\n",
       "      <th>NeighborhoodC_1</th>\n",
       "      <th>NeighborhoodC_2</th>\n",
       "      <th>y_pred</th>\n",
       "    </tr>\n",
       "  </thead>\n",
       "  <tbody>\n",
       "    <tr>\n",
       "      <th>1475</th>\n",
       "      <td>1.038166</td>\n",
       "      <td>1.137164</td>\n",
       "      <td>1.189491</td>\n",
       "      <td>1.309888</td>\n",
       "      <td>0.387148</td>\n",
       "      <td>0.239498</td>\n",
       "      <td>2.033620</td>\n",
       "      <td>0</td>\n",
       "      <td>1</td>\n",
       "      <td>309373.971206</td>\n",
       "    </tr>\n",
       "    <tr>\n",
       "      <th>692</th>\n",
       "      <td>-1.625734</td>\n",
       "      <td>-1.847503</td>\n",
       "      <td>-1.543422</td>\n",
       "      <td>-1.965095</td>\n",
       "      <td>-2.205421</td>\n",
       "      <td>-1.152405</td>\n",
       "      <td>-2.188308</td>\n",
       "      <td>1</td>\n",
       "      <td>0</td>\n",
       "      <td>28955.292110</td>\n",
       "    </tr>\n",
       "    <tr>\n",
       "      <th>100</th>\n",
       "      <td>0.943027</td>\n",
       "      <td>1.070838</td>\n",
       "      <td>1.907013</td>\n",
       "      <td>1.947994</td>\n",
       "      <td>0.918717</td>\n",
       "      <td>0.799554</td>\n",
       "      <td>2.033620</td>\n",
       "      <td>0</td>\n",
       "      <td>1</td>\n",
       "      <td>337331.409264</td>\n",
       "    </tr>\n",
       "  </tbody>\n",
       "</table>\n",
       "</div>"
      ],
      "text/plain": [
       "      Year Remod/Add  Year Built  1st Flr SF  Total Bsmt SF  Garage Area  \\\n",
       "1475        1.038166    1.137164    1.189491       1.309888     0.387148   \n",
       "692        -1.625734   -1.847503   -1.543422      -1.965095    -2.205421   \n",
       "100         0.943027    1.070838    1.907013       1.947994     0.918717   \n",
       "\n",
       "      Gr Liv Area  Overall Qual  NeighborhoodC_1  NeighborhoodC_2  \\\n",
       "1475     0.239498      2.033620                0                1   \n",
       "692     -1.152405     -2.188308                1                0   \n",
       "100      0.799554      2.033620                0                1   \n",
       "\n",
       "             y_pred  \n",
       "1475  309373.971206  \n",
       "692    28955.292110  \n",
       "100   337331.409264  "
      ]
     },
     "execution_count": 22,
     "metadata": {},
     "output_type": "execute_result"
    }
   ],
   "source": [
    "# Check that all is copacetic\n",
    "Z_test2.head(3)"
   ]
  },
  {
   "cell_type": "code",
   "execution_count": 23,
   "metadata": {},
   "outputs": [
    {
     "name": "stdout",
     "output_type": "stream",
     "text": [
      "Stored 'Z_test' (DataFrame)\n",
      "Stored 'Z_test2' (DataFrame)\n",
      "Stored 'Z_test3' (DataFrame)\n",
      "Stored 'Z_test4' (DataFrame)\n"
     ]
    }
   ],
   "source": [
    "#%store X_test\n",
    "%store Z_test\n",
    "%store Z_test2\n",
    "%store Z_test3\n",
    "%store Z_test4"
   ]
  },
  {
   "cell_type": "code",
   "execution_count": null,
   "metadata": {},
   "outputs": [],
   "source": []
  }
 ],
 "metadata": {
  "kernelspec": {
   "display_name": "Python 3",
   "language": "python",
   "name": "python3"
  },
  "language_info": {
   "codemirror_mode": {
    "name": "ipython",
    "version": 3
   },
   "file_extension": ".py",
   "mimetype": "text/x-python",
   "name": "python",
   "nbconvert_exporter": "python",
   "pygments_lexer": "ipython3",
   "version": "3.8.3"
  }
 },
 "nbformat": 4,
 "nbformat_minor": 4
}

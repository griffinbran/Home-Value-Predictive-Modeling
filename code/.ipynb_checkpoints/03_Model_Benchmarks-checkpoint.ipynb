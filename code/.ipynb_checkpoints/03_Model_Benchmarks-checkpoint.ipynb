{
 "cells": [
  {
   "cell_type": "markdown",
   "metadata": {},
   "source": [
    "## Modeling\n",
    "- **Establish your baseline score.**\n",
    "- Fit linear regression. Look at your coefficients. Are any of them wildly overblown?\n",
    "    **For every 1 unit increase in $x_i$, we expect SalePrice to increase by $\\beta_i$.**\n",
    "- Fit lasso/ridge/elastic net with default parameters.\n",
    "- Go back and remove features that might be causing issues in your models.\n",
    "- Tune hyperparameters.\n",
    "- **Identify a production model.** (This does not have to be your best performing Kaggle model, but rather the model that best answers your problem statement.)\n",
    "- Refine and interpret your production model."
   ]
  },
  {
   "cell_type": "code",
   "execution_count": 1,
   "metadata": {},
   "outputs": [],
   "source": [
    "# Imports\n",
    "import pandas as pd\n",
    "import numpy as np\n",
    "import matplotlib.pyplot as plt\n",
    "import seaborn as sns\n",
    "from sklearn.linear_model import LinearRegression, LassoCV, RidgeCV\n",
    "from sklearn.model_selection import train_test_split, cross_val_score\n",
    "from sklearn import metrics"
   ]
  },
  {
   "cell_type": "code",
   "execution_count": 2,
   "metadata": {},
   "outputs": [],
   "source": [
    "# Access scaled & Test/Train-Split variables from Notebook: 02_Preprocessing_and_Feature_Engineering\n",
    "\n",
    "%store -r Z_train\n",
    "%store -r Z_test\n",
    "%store -r y_train\n",
    "%store -r y_test\n",
    "%store -r features\n",
    "\n",
    "%store -r Z_train2\n",
    "%store -r Z_test2\n",
    "%store -r y_train2\n",
    "%store -r y_test2\n",
    "%store -r features2\n",
    "\n",
    "%store -r Z_train3\n",
    "%store -r Z_test3\n",
    "%store -r y_train3\n",
    "%store -r y_test3\n",
    "%store -r features3\n",
    "\n",
    "# Model 4 Variables\n",
    "%store -r Z_train4\n",
    "%store -r Z_test4\n",
    "%store -r y_train4\n",
    "%store -r y_test4"
   ]
  },
  {
   "cell_type": "markdown",
   "metadata": {},
   "source": [
    "### Model Preparation"
   ]
  },
  {
   "cell_type": "markdown",
   "metadata": {},
   "source": [
    "##### Instantiate the models"
   ]
  },
  {
   "cell_type": "code",
   "execution_count": 3,
   "metadata": {},
   "outputs": [],
   "source": [
    "# Instantiate linear regression model\n",
    "lm = LinearRegression()\n",
    "lm2 = LinearRegression()\n",
    "lm3 = LinearRegression()\n",
    "lm4 = LinearRegression()"
   ]
  },
  {
   "cell_type": "code",
   "execution_count": 4,
   "metadata": {},
   "outputs": [],
   "source": [
    "# Instantiate LassoCV, fit with default parameters\n",
    "lasso  = LassoCV(n_alphas=200)\n",
    "lasso2 = LassoCV(n_alphas=200)\n",
    "lasso3 = LassoCV(n_alphas=200)\n",
    "lasso4 = LassoCV(n_alphas=200)"
   ]
  },
  {
   "cell_type": "code",
   "execution_count": 5,
   "metadata": {},
   "outputs": [],
   "source": [
    "# Instantiate RidgeCV, fit with default parameters\n",
    "ridge  = RidgeCV(alphas=np.linspace(.1, 10, 100))\n",
    "ridge2 = RidgeCV(alphas=np.linspace(.1, 10, 100))\n",
    "ridge3 = RidgeCV(alphas=np.linspace(.1, 10, 100))\n",
    "ridge4 = RidgeCV(alphas=np.linspace(.1, 10, 100))"
   ]
  },
  {
   "cell_type": "markdown",
   "metadata": {},
   "source": [
    "##### Establish Baseline Score: Cross Validation"
   ]
  },
  {
   "cell_type": "code",
   "execution_count": 6,
   "metadata": {},
   "outputs": [],
   "source": [
    "# Cross-Val: Baseline Score\n",
    "lm_scores  = cross_val_score(lm,  Z_train,  y_train,  cv=5)\n",
    "lm2_scores = cross_val_score(lm2, Z_train2, y_train2, cv=5)\n",
    "lm3_scores = cross_val_score(lm3, Z_train3, y_train3, cv=5)\n",
    "lm4_scores = cross_val_score(lm4, Z_train4, y_train4, cv=5)"
   ]
  },
  {
   "cell_type": "code",
   "execution_count": 7,
   "metadata": {},
   "outputs": [
    {
     "name": "stdout",
     "output_type": "stream",
     "text": [
      "0.7636902331607145 0.7636902331607145 0.8088342466666723 0.8333781612633103\n"
     ]
    }
   ],
   "source": [
    "print(lm_scores.mean(),lm2_scores.mean(), lm3_scores.mean(), lm4_scores.mean())"
   ]
  },
  {
   "cell_type": "code",
   "execution_count": 8,
   "metadata": {},
   "outputs": [],
   "source": [
    "# Use cross_val_score to evaluate LassoCV\n",
    "lasso_scores  = cross_val_score(lasso,  Z_train,  y_train,  cv=5)\n",
    "lasso2_scores = cross_val_score(lasso2, Z_train2, y_train2, cv=5)\n",
    "lasso3_scores = cross_val_score(lasso3, Z_train3, y_train3, cv=5)\n",
    "lasso4_scores = cross_val_score(lasso4, Z_train4, y_train4, cv=5)"
   ]
  },
  {
   "cell_type": "code",
   "execution_count": 9,
   "metadata": {},
   "outputs": [
    {
     "name": "stdout",
     "output_type": "stream",
     "text": [
      "0.763713007436246 0.763713007436246 0.8093587566572884 0.8317071317472365\n"
     ]
    }
   ],
   "source": [
    "print(lasso_scores.mean(),lasso2_scores.mean(),lasso3_scores.mean(),lasso4_scores.mean())"
   ]
  },
  {
   "cell_type": "code",
   "execution_count": 10,
   "metadata": {},
   "outputs": [],
   "source": [
    "# Use cross_val_score to evaluate RidgeCV\n",
    "ridge_scores  = cross_val_score(ridge,  Z_train,  y_train,  cv=5)\n",
    "ridge2_scores = cross_val_score(ridge2, Z_train2, y_train2, cv=5)\n",
    "ridge3_scores = cross_val_score(ridge3, Z_train3, y_train3, cv=5)\n",
    "ridge4_scores = cross_val_score(ridge4, Z_train4, y_train4, cv=5)"
   ]
  },
  {
   "cell_type": "code",
   "execution_count": 11,
   "metadata": {},
   "outputs": [
    {
     "name": "stdout",
     "output_type": "stream",
     "text": [
      "0.7638996576159746 0.7638996576159746 0.8104509489620652 0.8340666052920035\n"
     ]
    }
   ],
   "source": [
    "print(ridge_scores.mean(), ridge2_scores.mean(), ridge3_scores.mean(), ridge4_scores.mean())"
   ]
  },
  {
   "cell_type": "markdown",
   "metadata": {},
   "source": [
    "##### Fit the best performing model"
   ]
  },
  {
   "cell_type": "code",
   "execution_count": 12,
   "metadata": {},
   "outputs": [
    {
     "data": {
      "text/html": [
       "<div>\n",
       "<style scoped>\n",
       "    .dataframe tbody tr th:only-of-type {\n",
       "        vertical-align: middle;\n",
       "    }\n",
       "\n",
       "    .dataframe tbody tr th {\n",
       "        vertical-align: top;\n",
       "    }\n",
       "\n",
       "    .dataframe thead th {\n",
       "        text-align: right;\n",
       "    }\n",
       "</style>\n",
       "<table border=\"1\" class=\"dataframe\">\n",
       "  <thead>\n",
       "    <tr style=\"text-align: right;\">\n",
       "      <th></th>\n",
       "      <th>Year Remod/Add</th>\n",
       "      <th>Year Built</th>\n",
       "      <th>1st Flr SF</th>\n",
       "      <th>Total Bsmt SF</th>\n",
       "      <th>Garage Area</th>\n",
       "      <th>Gr Liv Area</th>\n",
       "      <th>Overall Qual</th>\n",
       "      <th>NeighborhoodC_1</th>\n",
       "      <th>NeighborhoodC_2</th>\n",
       "      <th>Paved DriveC_1</th>\n",
       "      <th>...</th>\n",
       "      <th>Condition 1C_2</th>\n",
       "      <th>Bldg TypeC_1</th>\n",
       "      <th>Exterior 1stC_1</th>\n",
       "      <th>Exter QualC_1</th>\n",
       "      <th>Exter QualC_2</th>\n",
       "      <th>FoundationC_1</th>\n",
       "      <th>FoundationC_2</th>\n",
       "      <th>Heating QCC_1</th>\n",
       "      <th>Heating QCC_2</th>\n",
       "      <th>Central AirC_1</th>\n",
       "    </tr>\n",
       "  </thead>\n",
       "  <tbody>\n",
       "    <tr>\n",
       "      <th>1972</th>\n",
       "      <td>-1.626595</td>\n",
       "      <td>-1.085692</td>\n",
       "      <td>-0.221273</td>\n",
       "      <td>-0.149280</td>\n",
       "      <td>-1.244910</td>\n",
       "      <td>-0.844355</td>\n",
       "      <td>-0.781201</td>\n",
       "      <td>1</td>\n",
       "      <td>0</td>\n",
       "      <td>0</td>\n",
       "      <td>...</td>\n",
       "      <td>0</td>\n",
       "      <td>1</td>\n",
       "      <td>0</td>\n",
       "      <td>0</td>\n",
       "      <td>0</td>\n",
       "      <td>1</td>\n",
       "      <td>0</td>\n",
       "      <td>0</td>\n",
       "      <td>1</td>\n",
       "      <td>0</td>\n",
       "    </tr>\n",
       "    <tr>\n",
       "      <th>694</th>\n",
       "      <td>0.846619</td>\n",
       "      <td>-0.024709</td>\n",
       "      <td>1.662861</td>\n",
       "      <td>1.301578</td>\n",
       "      <td>1.228548</td>\n",
       "      <td>0.648631</td>\n",
       "      <td>0.621675</td>\n",
       "      <td>0</td>\n",
       "      <td>0</td>\n",
       "      <td>0</td>\n",
       "      <td>...</td>\n",
       "      <td>0</td>\n",
       "      <td>0</td>\n",
       "      <td>0</td>\n",
       "      <td>0</td>\n",
       "      <td>0</td>\n",
       "      <td>0</td>\n",
       "      <td>0</td>\n",
       "      <td>0</td>\n",
       "      <td>0</td>\n",
       "      <td>0</td>\n",
       "    </tr>\n",
       "    <tr>\n",
       "      <th>906</th>\n",
       "      <td>-0.580235</td>\n",
       "      <td>0.008447</td>\n",
       "      <td>-1.719499</td>\n",
       "      <td>-1.279703</td>\n",
       "      <td>-0.860458</td>\n",
       "      <td>-1.024232</td>\n",
       "      <td>-0.079763</td>\n",
       "      <td>1</td>\n",
       "      <td>0</td>\n",
       "      <td>0</td>\n",
       "      <td>...</td>\n",
       "      <td>0</td>\n",
       "      <td>1</td>\n",
       "      <td>0</td>\n",
       "      <td>0</td>\n",
       "      <td>0</td>\n",
       "      <td>0</td>\n",
       "      <td>0</td>\n",
       "      <td>0</td>\n",
       "      <td>0</td>\n",
       "      <td>0</td>\n",
       "    </tr>\n",
       "  </tbody>\n",
       "</table>\n",
       "<p>3 rows × 24 columns</p>\n",
       "</div>"
      ],
      "text/plain": [
       "      Year Remod/Add  Year Built  1st Flr SF  Total Bsmt SF  Garage Area  \\\n",
       "1972       -1.626595   -1.085692   -0.221273      -0.149280    -1.244910   \n",
       "694         0.846619   -0.024709    1.662861       1.301578     1.228548   \n",
       "906        -0.580235    0.008447   -1.719499      -1.279703    -0.860458   \n",
       "\n",
       "      Gr Liv Area  Overall Qual  NeighborhoodC_1  NeighborhoodC_2  \\\n",
       "1972    -0.844355     -0.781201                1                0   \n",
       "694      0.648631      0.621675                0                0   \n",
       "906     -1.024232     -0.079763                1                0   \n",
       "\n",
       "      Paved DriveC_1  ...  Condition 1C_2  Bldg TypeC_1  Exterior 1stC_1  \\\n",
       "1972               0  ...               0             1                0   \n",
       "694                0  ...               0             0                0   \n",
       "906                0  ...               0             1                0   \n",
       "\n",
       "      Exter QualC_1  Exter QualC_2  FoundationC_1  FoundationC_2  \\\n",
       "1972              0              0              1              0   \n",
       "694               0              0              0              0   \n",
       "906               0              0              0              0   \n",
       "\n",
       "      Heating QCC_1  Heating QCC_2  Central AirC_1  \n",
       "1972              0              1               0  \n",
       "694               0              0               0  \n",
       "906               0              0               0  \n",
       "\n",
       "[3 rows x 24 columns]"
      ]
     },
     "execution_count": 12,
     "metadata": {},
     "output_type": "execute_result"
    }
   ],
   "source": [
    "Z_test3.head(3)"
   ]
  },
  {
   "cell_type": "code",
   "execution_count": 13,
   "metadata": {},
   "outputs": [
    {
     "name": "stdout",
     "output_type": "stream",
     "text": [
      "LinearReg 1:    Train=0.777785,\n",
      "\t\tTest= 0.822252, \n",
      "Cross-Val Score:Train=0.763690\n",
      "\n",
      "LinearReg 2:    Train=0.777785,\n",
      "\t\tTest= 0.822252,\n",
      "Cross-Val Score:Train=0.763690\n",
      "\n",
      "LinearReg 3:    Train=0.832435,\n",
      "\t\tTest= 0.864527, \n",
      "Cross-Val Score:Train=0.808834\n",
      "\n",
      "LinearReg 4:    Train=0.851930,\n",
      "\t\tTest= 0.844978, \n",
      "Cross-Val Score:Train=0.833378\n"
     ]
    }
   ],
   "source": [
    "# Fit the linear regression to chosen scaled-features\n",
    "lm.fit(Z_train, y_train)\n",
    "lm2.fit(Z_train2, y_train2)\n",
    "lm3.fit(Z_train3, y_train3)\n",
    "lm4.fit(Z_train4, y_train4)\n",
    "\n",
    "# 1. Train Score\n",
    "lm_train_score = lm.score(Z_train,y_train)\n",
    "lm2_train_score = lm2.score(Z_train2,y_train2)\n",
    "lm3_train_score = lm3.score(Z_train3, y_train3)\n",
    "lm4_train_score = lm4.score(Z_train4, y_train4)\n",
    "\n",
    "# 2. Test Score\n",
    "lm_test_score  = lm.score( Z_test,  y_test)\n",
    "lm2_test_score = lm2.score(Z_test2, y_test2)\n",
    "lm3_test_score = lm3.score(Z_test3, y_test3)\n",
    "lm4_test_score = lm4.score(Z_test4, y_test4)\n",
    "\n",
    "print(f'LinearReg 1:    Train={lm_train_score:.6f},\\n\\t\\tTest= {lm_test_score:.6f}, \\nCross-Val Score:Train={lm_scores.mean():.6f}\\n')\n",
    "print(f'LinearReg 2:    Train={lm2_train_score:.6f},\\n\\t\\tTest= {lm2_test_score:.6f},\\nCross-Val Score:Train={lm2_scores.mean():.6f}\\n')\n",
    "print(f'LinearReg 3:    Train={lm3_train_score:.6f},\\n\\t\\tTest= {lm3_test_score:.6f}, \\nCross-Val Score:Train={lm3_scores.mean():.6f}\\n')\n",
    "print(f'LinearReg 4:    Train={lm4_train_score:.6f},\\n\\t\\tTest= {lm4_test_score:.6f}, \\nCross-Val Score:Train={lm4_scores.mean():.6f}')"
   ]
  },
  {
   "cell_type": "code",
   "execution_count": 14,
   "metadata": {},
   "outputs": [
    {
     "name": "stdout",
     "output_type": "stream",
     "text": [
      "LassoCV 1:   Train=0.7777706362917753, Test=0.8218268755949247, \n",
      "Cross-Val Score: Train=0.763713007436246\n",
      "LassoCV 2:   Train=0.7777706362917753, Test=0.8218268755949247, \n",
      "Cross-Val Score: Train=0.763713007436246\n",
      "LassoCV 3:   Train=0.8312618655800708, Test=0.8648239111877506, \n",
      "Cross-Val Score: Train=0.8093587566572884\n",
      "LassoCV 4:   Train=0.851586017640712, Test=0.8455174972106065, \n",
      "Cross-Val Score: Train=0.8317071317472365\n"
     ]
    }
   ],
   "source": [
    "##### Fit the lasso regression to chosen scaled-features\n",
    "lasso.fit(Z_train, y_train)\n",
    "lasso2.fit(Z_train2, y_train2)\n",
    "lasso3.fit(Z_train3, y_train3)\n",
    "lasso4.fit(Z_train4, y_train4)\n",
    "\n",
    "# 1. Train Score\n",
    "lasso_train_score = lasso.score(Z_train,y_train)\n",
    "lasso2_train_score = lasso2.score(Z_train2,y_train2)\n",
    "lasso3_train_score = lasso3.score(Z_train3,y_train3)\n",
    "lasso4_train_score = lasso4.score(Z_train4,y_train4)\n",
    "\n",
    "# 2. Test Score\n",
    "lasso_test_score = lasso.score(Z_test, y_test)\n",
    "lasso2_test_score = lasso2.score(Z_test2, y_test2)\n",
    "lasso3_test_score = lasso3.score(Z_test3, y_test3)\n",
    "lasso4_test_score = lasso4.score(Z_test4, y_test4)\n",
    "\n",
    "print(f'LassoCV 1:   Train={lasso_train_score}, Test={lasso_test_score}, \\nCross-Val Score: Train={lasso_scores.mean()}')\n",
    "print(f'LassoCV 2:   Train={lasso2_train_score}, Test={lasso2_test_score}, \\nCross-Val Score: Train={lasso2_scores.mean()}')\n",
    "print(f'LassoCV 3:   Train={lasso3_train_score}, Test={lasso3_test_score}, \\nCross-Val Score: Train={lasso3_scores.mean()}')\n",
    "print(f'LassoCV 4:   Train={lasso4_train_score}, Test={lasso4_test_score}, \\nCross-Val Score: Train={lasso4_scores.mean()}')"
   ]
  },
  {
   "cell_type": "code",
   "execution_count": 15,
   "metadata": {},
   "outputs": [
    {
     "name": "stdout",
     "output_type": "stream",
     "text": [
      "RidgeCV r2 Score 1:   Train=0.7777768375202648, Test=0.8222868944529705, \n",
      "Cross-Val Score: Train=0.7638996576159746\n",
      "RidgeCV r2 Score 2:   Train=0.7777768375202648, Test=0.8222868944529705, \n",
      "Cross-Val Score: Train=0.7638996576159746\n",
      "RidgeCV r2 Score 3:   Train=0.8314101635050883, Test=0.8643944203288217, \n",
      "Cross-Val Score: Train=0.8104509489620652\n",
      "RidgeCV r2 Score 4:   Train=0.8506048066073496, Test=0.8456712120582073, \n",
      "Cross-Val Score: Train=0.8340666052920035\n"
     ]
    }
   ],
   "source": [
    "# Fit the Ridge regression to chosen scaled-features\n",
    "ridge.fit(Z_train, y_train)\n",
    "ridge2.fit(Z_train2, y_train2)\n",
    "ridge3.fit(Z_train3, y_train3)\n",
    "ridge4.fit(Z_train4, y_train4)\n",
    "\n",
    "# 1. Train Score\n",
    "ridge_train_score = ridge.score(Z_train,y_train)\n",
    "ridge2_train_score = ridge2.score(Z_train2,y_train2)\n",
    "ridge3_train_score = ridge3.score(Z_train3,y_train3)\n",
    "ridge4_train_score = ridge4.score(Z_train4,y_train4)\n",
    "\n",
    "# 2. Test Score\n",
    "ridge_test_score = ridge.score(Z_test, y_test)\n",
    "ridge2_test_score = ridge2.score(Z_test2, y_test2)\n",
    "ridge3_test_score = ridge3.score(Z_test3, y_test3)\n",
    "ridge4_test_score = ridge4.score(Z_test4, y_test4)\n",
    "\n",
    "print(f'RidgeCV r2 Score 1:   Train={ridge_train_score}, Test={ridge_test_score}, \\nCross-Val Score: Train={ridge_scores.mean()}')\n",
    "print(f'RidgeCV r2 Score 2:   Train={ridge2_train_score}, Test={ridge2_test_score}, \\nCross-Val Score: Train={ridge2_scores.mean()}')\n",
    "print(f'RidgeCV r2 Score 3:   Train={ridge3_train_score}, Test={ridge3_test_score}, \\nCross-Val Score: Train={ridge3_scores.mean()}')\n",
    "print(f'RidgeCV r2 Score 4:   Train={ridge4_train_score}, Test={ridge4_test_score}, \\nCross-Val Score: Train={ridge4_scores.mean()}')"
   ]
  },
  {
   "cell_type": "markdown",
   "metadata": {},
   "source": [
    "3. Cross-Val (the avg of five Test-scores) - This will serve as a baseline $R^2$ for the model"
   ]
  },
  {
   "cell_type": "markdown",
   "metadata": {},
   "source": [
    "**Look at your coefficients.** Are any of them wildly overblown? \n",
    "\n",
    "For every 1 unit increase in  𝑥𝑖 , we expect SalePrice to increase by  𝛽𝑖 ."
   ]
  },
  {
   "cell_type": "code",
   "execution_count": 22,
   "metadata": {},
   "outputs": [
    {
     "data": {
      "text/plain": [
       "['Year Remod/Add',\n",
       " 'Year Built',\n",
       " '1st Flr SF',\n",
       " 'Total Bsmt SF',\n",
       " 'Garage Area',\n",
       " 'Gr Liv Area',\n",
       " 'Overall Qual',\n",
       " 'NeighborhoodC_1',\n",
       " 'NeighborhoodC_2',\n",
       " 'Paved DriveC_1',\n",
       " 'Lot ShapeC_1',\n",
       " 'Land ContourC_1',\n",
       " 'Lot ConfigC_1',\n",
       " 'Condition 1C_1',\n",
       " 'Condition 1C_2',\n",
       " 'Bldg TypeC_1',\n",
       " 'Exterior 1stC_1',\n",
       " 'Exter QualC_1',\n",
       " 'Exter QualC_2',\n",
       " 'FoundationC_1',\n",
       " 'FoundationC_2',\n",
       " 'Heating QCC_1',\n",
       " 'Heating QCC_2',\n",
       " 'Central AirC_1']"
      ]
     },
     "execution_count": 22,
     "metadata": {},
     "output_type": "execute_result"
    }
   ],
   "source": [
    "features3"
   ]
  },
  {
   "cell_type": "code",
   "execution_count": 23,
   "metadata": {},
   "outputs": [
    {
     "ename": "ValueError",
     "evalue": "Length of passed values is 7, index implies 9.",
     "output_type": "error",
     "traceback": [
      "\u001b[1;31m---------------------------------------------------------------------------\u001b[0m",
      "\u001b[1;31mValueError\u001b[0m                                Traceback (most recent call last)",
      "\u001b[1;32m<ipython-input-23-63a6e9e1ec3f>\u001b[0m in \u001b[0;36m<module>\u001b[1;34m\u001b[0m\n\u001b[0;32m      1\u001b[0m \u001b[1;31m# The `lm` object contains our model's coefficients\u001b[0m\u001b[1;33m\u001b[0m\u001b[1;33m\u001b[0m\u001b[1;33m\u001b[0m\u001b[0m\n\u001b[0;32m      2\u001b[0m \u001b[0mcoeff1\u001b[0m \u001b[1;33m=\u001b[0m \u001b[0mpd\u001b[0m\u001b[1;33m.\u001b[0m\u001b[0mSeries\u001b[0m\u001b[1;33m(\u001b[0m\u001b[0mlm\u001b[0m\u001b[1;33m.\u001b[0m\u001b[0mcoef_\u001b[0m\u001b[1;33m,\u001b[0m \u001b[0mindex\u001b[0m\u001b[1;33m=\u001b[0m\u001b[0mfeatures\u001b[0m\u001b[1;33m)\u001b[0m\u001b[1;33m[\u001b[0m\u001b[1;33m:\u001b[0m\u001b[1;33m:\u001b[0m\u001b[1;33m-\u001b[0m\u001b[1;36m1\u001b[0m\u001b[1;33m]\u001b[0m   \u001b[1;31m# Model 1 Coefficients\u001b[0m\u001b[1;33m\u001b[0m\u001b[1;33m\u001b[0m\u001b[0m\n\u001b[1;32m----> 3\u001b[1;33m \u001b[0mcoeff2\u001b[0m \u001b[1;33m=\u001b[0m \u001b[0mpd\u001b[0m\u001b[1;33m.\u001b[0m\u001b[0mSeries\u001b[0m\u001b[1;33m(\u001b[0m\u001b[0mlm2\u001b[0m\u001b[1;33m.\u001b[0m\u001b[0mcoef_\u001b[0m\u001b[1;33m,\u001b[0m \u001b[0mindex\u001b[0m\u001b[1;33m=\u001b[0m\u001b[0mfeatures2\u001b[0m\u001b[1;33m)\u001b[0m\u001b[1;33m[\u001b[0m\u001b[1;33m:\u001b[0m\u001b[1;33m:\u001b[0m\u001b[1;33m-\u001b[0m\u001b[1;36m1\u001b[0m\u001b[1;33m]\u001b[0m \u001b[1;31m# Model 2 Coefficients\u001b[0m\u001b[1;33m\u001b[0m\u001b[1;33m\u001b[0m\u001b[0m\n\u001b[0m\u001b[0;32m      4\u001b[0m \u001b[0mcoeff3\u001b[0m \u001b[1;33m=\u001b[0m \u001b[0mpd\u001b[0m\u001b[1;33m.\u001b[0m\u001b[0mSeries\u001b[0m\u001b[1;33m(\u001b[0m\u001b[0mlm3\u001b[0m\u001b[1;33m.\u001b[0m\u001b[0mcoef_\u001b[0m\u001b[1;33m,\u001b[0m \u001b[0mindex\u001b[0m\u001b[1;33m=\u001b[0m\u001b[0mfeatures3\u001b[0m\u001b[1;33m)\u001b[0m\u001b[1;33m[\u001b[0m\u001b[1;33m:\u001b[0m\u001b[1;33m:\u001b[0m\u001b[1;33m-\u001b[0m\u001b[1;36m1\u001b[0m\u001b[1;33m]\u001b[0m \u001b[1;31m# Model 3 Coefficients\u001b[0m\u001b[1;33m\u001b[0m\u001b[1;33m\u001b[0m\u001b[0m\n\u001b[0;32m      5\u001b[0m \u001b[0mcoeff4\u001b[0m \u001b[1;33m=\u001b[0m \u001b[0mpd\u001b[0m\u001b[1;33m.\u001b[0m\u001b[0mSeries\u001b[0m\u001b[1;33m(\u001b[0m\u001b[0mlm4\u001b[0m\u001b[1;33m.\u001b[0m\u001b[0mcoef_\u001b[0m\u001b[1;33m,\u001b[0m \u001b[0mindex\u001b[0m\u001b[1;33m=\u001b[0m\u001b[0mfeatures3\u001b[0m\u001b[1;33m)\u001b[0m\u001b[1;33m[\u001b[0m\u001b[1;33m:\u001b[0m\u001b[1;33m:\u001b[0m\u001b[1;33m-\u001b[0m\u001b[1;36m1\u001b[0m\u001b[1;33m]\u001b[0m \u001b[1;31m# Model 4 Coefficients\u001b[0m\u001b[1;33m\u001b[0m\u001b[1;33m\u001b[0m\u001b[0m\n",
      "\u001b[1;32m~\\anaconda3\\lib\\site-packages\\pandas\\core\\series.py\u001b[0m in \u001b[0;36m__init__\u001b[1;34m(self, data, index, dtype, name, copy, fastpath)\u001b[0m\n\u001b[0;32m    289\u001b[0m                 \u001b[1;32mtry\u001b[0m\u001b[1;33m:\u001b[0m\u001b[1;33m\u001b[0m\u001b[1;33m\u001b[0m\u001b[0m\n\u001b[0;32m    290\u001b[0m                     \u001b[1;32mif\u001b[0m \u001b[0mlen\u001b[0m\u001b[1;33m(\u001b[0m\u001b[0mindex\u001b[0m\u001b[1;33m)\u001b[0m \u001b[1;33m!=\u001b[0m \u001b[0mlen\u001b[0m\u001b[1;33m(\u001b[0m\u001b[0mdata\u001b[0m\u001b[1;33m)\u001b[0m\u001b[1;33m:\u001b[0m\u001b[1;33m\u001b[0m\u001b[1;33m\u001b[0m\u001b[0m\n\u001b[1;32m--> 291\u001b[1;33m                         raise ValueError(\n\u001b[0m\u001b[0;32m    292\u001b[0m                             \u001b[1;34mf\"Length of passed values is {len(data)}, \"\u001b[0m\u001b[1;33m\u001b[0m\u001b[1;33m\u001b[0m\u001b[0m\n\u001b[0;32m    293\u001b[0m                             \u001b[1;34mf\"index implies {len(index)}.\"\u001b[0m\u001b[1;33m\u001b[0m\u001b[1;33m\u001b[0m\u001b[0m\n",
      "\u001b[1;31mValueError\u001b[0m: Length of passed values is 7, index implies 9."
     ]
    }
   ],
   "source": [
    "# The `lm` object contains our model's coefficients\n",
    "coeff1 = pd.Series(lm.coef_, index=features)[::-1]   # Model 1 Coefficients\n",
    "coeff2 = pd.Series(lm2.coef_, index=features2)[::-1] # Model 2 Coefficients\n",
    "coeff3 = pd.Series(lm3.coef_, index=features3)[::-1] # Model 3 Coefficients\n",
    "coeff4 = pd.Series(lm4.coef_, index=features3)[::-1] # Model 4 Coefficients\n",
    "\n",
    "for i in range(len(coeff4)):\n",
    "    print(f'{coeff4[i]:,.2f}:\\t{coeff4.index[i]}')"
   ]
  },
  {
   "cell_type": "code",
   "execution_count": 26,
   "metadata": {},
   "outputs": [
    {
     "data": {
      "image/png": "[encoded data removed]",
      "text/plain": [
       "<Figure size 504x504 with 1 Axes>"
      ]
     },
     "metadata": {
      "needs_background": "light"
     },
     "output_type": "display_data"
    }
   ],
   "source": [
    "#pd.Series(lm.coef_, index=features).plot.barh(figsize=(7, 7));\n",
    "#pd.Series(lm2.coef_, index=features2).plot.barh(figsize=(7, 7));\n",
    "#pd.Series(lm.3coef_, index=features3).plot.barh(figsize=(7, 7));\n",
    "pd.Series(lm4.coef_, index=features3).plot.barh(figsize=(7, 7));\n",
    "\n",
    "plt.ylabel(f'Features', fontsize =15);\n",
    "plt.xlabel('Coefficients', fontsize=15);\n",
    "plt.title(f'Linear Regression Model', fontsize=15);"
   ]
  },
  {
   "cell_type": "code",
   "execution_count": 27,
   "metadata": {},
   "outputs": [
    {
     "name": "stdout",
     "output_type": "stream",
     "text": [
      "{'Year Remod/Add': 6215.9595799869185, 'Year Built': 8878.830962828917, '1st Flr SF': 6483.61069046594, 'Total Bsmt SF': 5665.938202131225, 'Garage Area': 10208.124468840166, 'Gr Liv Area': 22701.243600917776, 'Overall Qual': 28846.67538146822, 'intercept': 181579.91185316737}\n",
      "Stored 'feature_dict' (dict)\n"
     ]
    }
   ],
   "source": [
    "feature_dict = {}\n",
    "for i in range(len(features)):\n",
    "    feature_dict[features[i]] = lm.coef_[i]\n",
    "feature_dict['intercept'] = lm.intercept_\n",
    "print(feature_dict)\n",
    "%store feature_dict"
   ]
  },
  {
   "cell_type": "code",
   "execution_count": 28,
   "metadata": {},
   "outputs": [],
   "source": [
    "feature_df = pd.DataFrame(feature_dict.values(), feature_dict.keys())"
   ]
  },
  {
   "cell_type": "code",
   "execution_count": 29,
   "metadata": {},
   "outputs": [
    {
     "name": "stdout",
     "output_type": "stream",
     "text": [
      "Model 1 Intercept: 181,579.91\n",
      "Model 2 Intercept: 181,579.91\n",
      "Model 3 Intercept: 176,650.50\n",
      "Model 4 Intercept: 12.05\n"
     ]
    }
   ],
   "source": [
    "# And the y-intercept.\n",
    "print(f'Model 1 Intercept: {lm.intercept_:,.2f}')\n",
    "print(f'Model 2 Intercept: {lm2.intercept_:,.2f}')\n",
    "print(f'Model 3 Intercept: {lm3.intercept_:,.2f}')\n",
    "print(f'Model 4 Intercept: {lm4.intercept_:,.2f}')"
   ]
  },
  {
   "cell_type": "markdown",
   "metadata": {},
   "source": [
    "## Modeling\n",
    "- Go back and remove features that might be causing issues in your models.\n",
    "- Tune hyperparameters.\n",
    "- **Identify a production model.** (This is the model that best answers your problem statement.)\n",
    "- Refine and interpret your production model."
   ]
  },
  {
   "cell_type": "code",
   "execution_count": 30,
   "metadata": {},
   "outputs": [
    {
     "data": {
      "text/html": [
       "<div>\n",
       "<style scoped>\n",
       "    .dataframe tbody tr th:only-of-type {\n",
       "        vertical-align: middle;\n",
       "    }\n",
       "\n",
       "    .dataframe tbody tr th {\n",
       "        vertical-align: top;\n",
       "    }\n",
       "\n",
       "    .dataframe thead th {\n",
       "        text-align: right;\n",
       "    }\n",
       "</style>\n",
       "<table border=\"1\" class=\"dataframe\">\n",
       "  <thead>\n",
       "    <tr style=\"text-align: right;\">\n",
       "      <th></th>\n",
       "      <th>Year Remod/Add</th>\n",
       "      <th>Year Built</th>\n",
       "      <th>1st Flr SF</th>\n",
       "      <th>Total Bsmt SF</th>\n",
       "      <th>Garage Area</th>\n",
       "      <th>Gr Liv Area</th>\n",
       "      <th>Overall Qual</th>\n",
       "      <th>NeighborhoodC_1</th>\n",
       "      <th>NeighborhoodC_2</th>\n",
       "      <th>Paved DriveC_1</th>\n",
       "      <th>...</th>\n",
       "      <th>Condition 1C_2</th>\n",
       "      <th>Bldg TypeC_1</th>\n",
       "      <th>Exterior 1stC_1</th>\n",
       "      <th>Exter QualC_1</th>\n",
       "      <th>Exter QualC_2</th>\n",
       "      <th>FoundationC_1</th>\n",
       "      <th>FoundationC_2</th>\n",
       "      <th>Heating QCC_1</th>\n",
       "      <th>Heating QCC_2</th>\n",
       "      <th>Central AirC_1</th>\n",
       "    </tr>\n",
       "  </thead>\n",
       "  <tbody>\n",
       "    <tr>\n",
       "      <th>1972</th>\n",
       "      <td>-1.626595</td>\n",
       "      <td>-1.085692</td>\n",
       "      <td>-0.221273</td>\n",
       "      <td>-0.149280</td>\n",
       "      <td>-1.244910</td>\n",
       "      <td>-0.844355</td>\n",
       "      <td>-0.781201</td>\n",
       "      <td>1</td>\n",
       "      <td>0</td>\n",
       "      <td>0</td>\n",
       "      <td>...</td>\n",
       "      <td>0</td>\n",
       "      <td>1</td>\n",
       "      <td>0</td>\n",
       "      <td>0</td>\n",
       "      <td>0</td>\n",
       "      <td>1</td>\n",
       "      <td>0</td>\n",
       "      <td>0</td>\n",
       "      <td>1</td>\n",
       "      <td>0</td>\n",
       "    </tr>\n",
       "    <tr>\n",
       "      <th>694</th>\n",
       "      <td>0.846619</td>\n",
       "      <td>-0.024709</td>\n",
       "      <td>1.662861</td>\n",
       "      <td>1.301578</td>\n",
       "      <td>1.228548</td>\n",
       "      <td>0.648631</td>\n",
       "      <td>0.621675</td>\n",
       "      <td>0</td>\n",
       "      <td>0</td>\n",
       "      <td>0</td>\n",
       "      <td>...</td>\n",
       "      <td>0</td>\n",
       "      <td>0</td>\n",
       "      <td>0</td>\n",
       "      <td>0</td>\n",
       "      <td>0</td>\n",
       "      <td>0</td>\n",
       "      <td>0</td>\n",
       "      <td>0</td>\n",
       "      <td>0</td>\n",
       "      <td>0</td>\n",
       "    </tr>\n",
       "    <tr>\n",
       "      <th>906</th>\n",
       "      <td>-0.580235</td>\n",
       "      <td>0.008447</td>\n",
       "      <td>-1.719499</td>\n",
       "      <td>-1.279703</td>\n",
       "      <td>-0.860458</td>\n",
       "      <td>-1.024232</td>\n",
       "      <td>-0.079763</td>\n",
       "      <td>1</td>\n",
       "      <td>0</td>\n",
       "      <td>0</td>\n",
       "      <td>...</td>\n",
       "      <td>0</td>\n",
       "      <td>1</td>\n",
       "      <td>0</td>\n",
       "      <td>0</td>\n",
       "      <td>0</td>\n",
       "      <td>0</td>\n",
       "      <td>0</td>\n",
       "      <td>0</td>\n",
       "      <td>0</td>\n",
       "      <td>0</td>\n",
       "    </tr>\n",
       "  </tbody>\n",
       "</table>\n",
       "<p>3 rows × 24 columns</p>\n",
       "</div>"
      ],
      "text/plain": [
       "      Year Remod/Add  Year Built  1st Flr SF  Total Bsmt SF  Garage Area  \\\n",
       "1972       -1.626595   -1.085692   -0.221273      -0.149280    -1.244910   \n",
       "694         0.846619   -0.024709    1.662861       1.301578     1.228548   \n",
       "906        -0.580235    0.008447   -1.719499      -1.279703    -0.860458   \n",
       "\n",
       "      Gr Liv Area  Overall Qual  NeighborhoodC_1  NeighborhoodC_2  \\\n",
       "1972    -0.844355     -0.781201                1                0   \n",
       "694      0.648631      0.621675                0                0   \n",
       "906     -1.024232     -0.079763                1                0   \n",
       "\n",
       "      Paved DriveC_1  ...  Condition 1C_2  Bldg TypeC_1  Exterior 1stC_1  \\\n",
       "1972               0  ...               0             1                0   \n",
       "694                0  ...               0             0                0   \n",
       "906                0  ...               0             1                0   \n",
       "\n",
       "      Exter QualC_1  Exter QualC_2  FoundationC_1  FoundationC_2  \\\n",
       "1972              0              0              1              0   \n",
       "694               0              0              0              0   \n",
       "906               0              0              0              0   \n",
       "\n",
       "      Heating QCC_1  Heating QCC_2  Central AirC_1  \n",
       "1972              0              1               0  \n",
       "694               0              0               0  \n",
       "906               0              0               0  \n",
       "\n",
       "[3 rows x 24 columns]"
      ]
     },
     "execution_count": 30,
     "metadata": {},
     "output_type": "execute_result"
    }
   ],
   "source": [
    "Z_test3.head(3)"
   ]
  },
  {
   "cell_type": "code",
   "execution_count": 31,
   "metadata": {},
   "outputs": [],
   "source": [
    "# Create predictions using the `lm` object.\n",
    "y_pred = lm.predict(Z_test)\n",
    "y_pred2 = lm2.predict(Z_test2)\n",
    "y_pred3 = lm3.predict(Z_test3)\n",
    "y_pred4 = lm4.predict(Z_test4)\n",
    "y_score4 = lm4.predict() # I need to go back and take test_df['SalePrice'] = np.exp(lm4.predict(test_df[features3]))\n",
    "#Then test_df[['ID', 'SalePrice']]\n",
    "\n",
    "#Create a list of y_pred in X_test df b/c I want to use sns.regplot\n",
    "Z_test['y_pred']  = y_pred\n",
    "Z_test2['y_pred'] = y_pred2\n",
    "Z_test3['y_pred'] = y_pred3\n",
    "Z_test4['y_pred'] = y_pred4"
   ]
  },
  {
   "cell_type": "code",
   "execution_count": 32,
   "metadata": {},
   "outputs": [
    {
     "name": "stdout",
     "output_type": "stream",
     "text": [
      "Stored 'y_score4' (ndarray)\n"
     ]
    }
   ],
   "source": [
    "y_score4 = np.exp(y_pred4)\n",
    "%store y_score4"
   ]
  },
  {
   "cell_type": "code",
   "execution_count": 33,
   "metadata": {},
   "outputs": [
    {
     "data": {
      "text/html": [
       "<div>\n",
       "<style scoped>\n",
       "    .dataframe tbody tr th:only-of-type {\n",
       "        vertical-align: middle;\n",
       "    }\n",
       "\n",
       "    .dataframe tbody tr th {\n",
       "        vertical-align: top;\n",
       "    }\n",
       "\n",
       "    .dataframe thead th {\n",
       "        text-align: right;\n",
       "    }\n",
       "</style>\n",
       "<table border=\"1\" class=\"dataframe\">\n",
       "  <thead>\n",
       "    <tr style=\"text-align: right;\">\n",
       "      <th></th>\n",
       "      <th>Year Remod/Add</th>\n",
       "      <th>Year Built</th>\n",
       "      <th>1st Flr SF</th>\n",
       "      <th>Total Bsmt SF</th>\n",
       "      <th>Garage Area</th>\n",
       "      <th>Gr Liv Area</th>\n",
       "      <th>Overall Qual</th>\n",
       "      <th>y_pred</th>\n",
       "    </tr>\n",
       "  </thead>\n",
       "  <tbody>\n",
       "    <tr>\n",
       "      <th>1972</th>\n",
       "      <td>-1.626595</td>\n",
       "      <td>-1.085692</td>\n",
       "      <td>-0.221273</td>\n",
       "      <td>-0.149280</td>\n",
       "      <td>-1.244910</td>\n",
       "      <td>-0.844355</td>\n",
       "      <td>-0.781201</td>\n",
       "      <td>105137.771921</td>\n",
       "    </tr>\n",
       "    <tr>\n",
       "      <th>694</th>\n",
       "      <td>0.846619</td>\n",
       "      <td>-0.024709</td>\n",
       "      <td>1.662861</td>\n",
       "      <td>1.301578</td>\n",
       "      <td>1.228548</td>\n",
       "      <td>0.648631</td>\n",
       "      <td>0.621675</td>\n",
       "      <td>249978.219067</td>\n",
       "    </tr>\n",
       "    <tr>\n",
       "      <th>906</th>\n",
       "      <td>-0.580235</td>\n",
       "      <td>0.008447</td>\n",
       "      <td>-1.719499</td>\n",
       "      <td>-1.279703</td>\n",
       "      <td>-0.860458</td>\n",
       "      <td>-1.024232</td>\n",
       "      <td>-0.079763</td>\n",
       "      <td>125312.984236</td>\n",
       "    </tr>\n",
       "  </tbody>\n",
       "</table>\n",
       "</div>"
      ],
      "text/plain": [
       "      Year Remod/Add  Year Built  1st Flr SF  Total Bsmt SF  Garage Area  \\\n",
       "1972       -1.626595   -1.085692   -0.221273      -0.149280    -1.244910   \n",
       "694         0.846619   -0.024709    1.662861       1.301578     1.228548   \n",
       "906        -0.580235    0.008447   -1.719499      -1.279703    -0.860458   \n",
       "\n",
       "      Gr Liv Area  Overall Qual         y_pred  \n",
       "1972    -0.844355     -0.781201  105137.771921  \n",
       "694      0.648631      0.621675  249978.219067  \n",
       "906     -1.024232     -0.079763  125312.984236  "
      ]
     },
     "execution_count": 33,
     "metadata": {},
     "output_type": "execute_result"
    }
   ],
   "source": [
    "# Check that all is copacetic\n",
    "Z_test2.head(3)"
   ]
  },
  {
   "cell_type": "code",
   "execution_count": 34,
   "metadata": {},
   "outputs": [
    {
     "name": "stdout",
     "output_type": "stream",
     "text": [
      "Stored 'Z_test' (DataFrame)\n",
      "Stored 'Z_test2' (DataFrame)\n",
      "Stored 'Z_test3' (DataFrame)\n",
      "Stored 'Z_test4' (DataFrame)\n"
     ]
    }
   ],
   "source": [
    "#%store X_test\n",
    "%store Z_test\n",
    "%store Z_test2\n",
    "%store Z_test3\n",
    "%store Z_test4"
   ]
  },
  {
   "cell_type": "code",
   "execution_count": null,
   "metadata": {},
   "outputs": [],
   "source": []
  }
 ],
 "metadata": {
  "kernelspec": {
   "display_name": "Python 3",
   "language": "python",
   "name": "python3"
  },
  "language_info": {
   "codemirror_mode": {
    "name": "ipython",
    "version": 3
   },
   "file_extension": ".py",
   "mimetype": "text/x-python",
   "name": "python",
   "nbconvert_exporter": "python",
   "pygments_lexer": "ipython3",
   "version": "3.8.3"
  }
 },
 "nbformat": 4,
 "nbformat_minor": 4
}

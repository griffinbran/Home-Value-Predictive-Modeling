{
 "cells": [
  {
   "cell_type": "markdown",
   "metadata": {},
   "source": [
    "## Exploratory Visualizations\n",
    "- Look at distributions.\n",
    "- Look at correlations.\n",
    "- Look at relationships to target (scatter plots for continuous, box plots for categorical).\n",
    "\n",
    "## Pre-processing\n",
    "- One-hot encode categorical variables.\n",
    "- Train/test split your data.\n",
    "- Scale your data.\n",
    "- Consider using automated feature selection."
   ]
  },
  {
   "cell_type": "code",
   "execution_count": null,
   "metadata": {},
   "outputs": [],
   "source": []
  },
  {
   "cell_type": "code",
   "execution_count": null,
   "metadata": {},
   "outputs": [],
   "source": [
    "# Creating our features list; note that ID is not among them.\n",
    "# Pandas and Numpy will preserve the order of predictions on its own.\n",
    "features = ['Lot Area', 'Yr Sold', 'Overall Qual', 'Year Remod/Add', 'Year Built']"
   ]
  },
  {
   "cell_type": "code",
   "execution_count": null,
   "metadata": {},
   "outputs": [],
   "source": [
    "# Get correlation of variables.\n",
    "corr = df.corr()\n",
    "print(corr)\n",
    "# Set up mask to be \"True\" in the upper triangle.\n",
    "mask = np.zeros_like(corr)\n",
    "mask[np.triu_indices_from(mask)] = True\n",
    "# Plot our correlation heatmap, while masking the upper triangle to be white.\n",
    "sns.heatmap(corr, mask = mask, cmap = 'mako', annot = True, vmin=-1, vmax=1);"
   ]
  },
  {
   "cell_type": "code",
   "execution_count": null,
   "metadata": {},
   "outputs": [],
   "source": [
    "# Setting up our features and our target from the train_df to feed into a linear regression.\n",
    "X = train_df[features]\n",
    "y_actualdf = train_df[['SalePrice']]\n",
    "y_actual   = train_df['SalePrice']"
   ]
  },
  {
   "cell_type": "code",
   "execution_count": null,
   "metadata": {},
   "outputs": [],
   "source": []
  },
  {
   "cell_type": "code",
   "execution_count": null,
   "metadata": {},
   "outputs": [],
   "source": [
    "# Check that we have an equal number of observations in our X and y.\n",
    "X.shape[0] == y_actualdf.shape[0]\n",
    "# Verify dimensions, n = No. of rows\n",
    "print('X:        ', X.shape) # X.shape equals (n,p)\n",
    "print('y_actual: ', y_actual.shape) # y.shape equals (n, null)"
   ]
  },
  {
   "cell_type": "code",
   "execution_count": null,
   "metadata": {},
   "outputs": [],
   "source": [
    "# Check that everything is copacetic.\n",
    "X.head()"
   ]
  },
  {
   "cell_type": "code",
   "execution_count": null,
   "metadata": {},
   "outputs": [],
   "source": []
  }
 ],
 "metadata": {
  "kernelspec": {
   "display_name": "Python 3",
   "language": "python",
   "name": "python3"
  },
  "language_info": {
   "codemirror_mode": {
    "name": "ipython",
    "version": 3
   },
   "file_extension": ".py",
   "mimetype": "text/x-python",
   "name": "python",
   "nbconvert_exporter": "python",
   "pygments_lexer": "ipython3",
   "version": "3.8.3"
  }
 },
 "nbformat": 4,
 "nbformat_minor": 4
}
